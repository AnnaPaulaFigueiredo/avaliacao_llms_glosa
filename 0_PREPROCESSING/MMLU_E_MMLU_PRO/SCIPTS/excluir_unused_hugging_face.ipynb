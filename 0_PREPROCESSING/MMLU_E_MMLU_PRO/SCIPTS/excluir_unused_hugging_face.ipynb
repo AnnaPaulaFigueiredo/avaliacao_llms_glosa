{
 "cells": [
  {
   "cell_type": "markdown",
   "metadata": {},
   "source": [
    "# Imports"
   ]
  },
  {
   "cell_type": "code",
   "execution_count": null,
   "metadata": {},
   "outputs": [
    {
     "name": "stderr",
     "output_type": "stream",
     "text": [
      "/home/annap/.local/lib/python3.10/site-packages/tqdm/auto.py:21: TqdmWarning: IProgress not found. Please update jupyter and ipywidgets. See https://ipywidgets.readthedocs.io/en/stable/user_install.html\n",
      "  from .autonotebook import tqdm as notebook_tqdm\n"
     ]
    }
   ],
   "source": [
    "from huggingface_hub import HfApi\n",
    "\n",
    "token = \"\""
   ]
  },
  {
   "cell_type": "code",
   "execution_count": 4,
   "metadata": {},
   "outputs": [
    {
     "name": "stdout",
     "output_type": "stream",
     "text": [
      "📌 Modelos:\n",
      "🔹 annagoncalves2/unsloth-zephyr-sft-bnb-4bit-glosa-v1 | Privado: True\n",
      "🔹 annagoncalves2/unsloth-mistral-7b-bnb-4bit-glosa-v2 | Privado: True\n",
      "🔹 annagoncalves2/glosa-Qwen2.5-7B-gguf | Privado: True\n",
      "🔹 annagoncalves2/glosa-Qwen2.5-7B | Privado: True\n",
      "🔹 annagoncalves2/glosa-Llama-3.2-1B-Instruct-bnb-4bit | Privado: True\n",
      "🔹 annagoncalves2/glosa-Llama-3.2-1B-Instruct-bnb-4bit-gguf | Privado: True\n",
      "🔹 annagoncalves2/glosa-Phi-4-unsloth-bnb-4bit | Privado: True\n",
      "🔹 annagoncalves2/glosa-Phi-4-unsloth-bnb-4bit-gguf | Privado: True\n",
      "🔹 annagoncalves2/Qwen2.5-7B | Privado: True\n",
      "🔹 annagoncalves2/Llama-3.2-1B-Instruct-bnb-4bit | Privado: True\n",
      "🔹 annagoncalves2/Llama-3.2-1B-Instruct-bnb-4bit-gguf | Privado: True\n",
      "🔹 annagoncalves2/Phi-4-unsloth-bnb-4bit | Privado: True\n",
      "🔹 annagoncalves2/Phi-4-unsloth-bnb-4bit-gguf | Privado: True\n",
      "🔹 annagoncalves2/Qwen2.5-7B-gguf | Privado: True\n",
      "🔹 annagoncalves2/DeepSeek-R1-Distill-Llama-8B | Privado: True\n",
      "🔹 annagoncalves2/DeepSeek-R1-Distill-Llama-8B-gguf | Privado: True\n",
      "🔹 annagoncalves2/Llama-3.3-70B-Instruct-bnb-4bit | Privado: True\n",
      "🔹 annagoncalves2/Llama-3.3-70B-Instruct-bnb-4bit-gguf | Privado: True\n",
      "🔹 annagoncalves2/QwQ-32B-bnb-4bit | Privado: True\n",
      "🔹 annagoncalves2/QwQ-32B-bnb-4bit-gguf | Privado: True\n",
      "🔹 annagoncalves2/Qwen2.5-7B-Instruct-bnb-4bit | Privado: True\n",
      "🔹 annagoncalves2/Qwen2.5-7B-Instruct-bnb-4bit-gguf | Privado: True\n",
      "🔹 annagoncalves2/Llama-3.2-3B-Instruct-unsloth-bnb-4bit | Privado: True\n",
      "🔹 annagoncalves2/Llama-3.2-3B-Instruct-unsloth-bnb-4bit-v2 | Privado: True\n",
      "🔹 annagoncalves2/Qwen2.5-7B-Instruct-bnb-4bit-v2 | Privado: True\n",
      "🔹 annagoncalves2/DeepSeek-R1-Distill-Llama-8B-v2 | Privado: True\n"
     ]
    },
    {
     "ename": "AttributeError",
     "evalue": "'HfApi' object has no attribute 'list_repos'",
     "output_type": "error",
     "traceback": [
      "\u001b[0;31m---------------------------------------------------------------------------\u001b[0m",
      "\u001b[0;31mAttributeError\u001b[0m                            Traceback (most recent call last)",
      "Cell \u001b[0;32mIn[4], line 17\u001b[0m\n\u001b[1;32m     14\u001b[0m     \u001b[38;5;28mprint\u001b[39m(\u001b[38;5;124mf\u001b[39m\u001b[38;5;124m\"\u001b[39m\u001b[38;5;124m🔹 \u001b[39m\u001b[38;5;132;01m{\u001b[39;00mmodel\u001b[38;5;241m.\u001b[39mid\u001b[38;5;132;01m}\u001b[39;00m\u001b[38;5;124m | Privado: \u001b[39m\u001b[38;5;132;01m{\u001b[39;00mmodel\u001b[38;5;241m.\u001b[39mprivate\u001b[38;5;132;01m}\u001b[39;00m\u001b[38;5;124m\"\u001b[39m)\n\u001b[1;32m     16\u001b[0m \u001b[38;5;66;03m# Lista os repositórios do usuário\u001b[39;00m\n\u001b[0;32m---> 17\u001b[0m repos \u001b[38;5;241m=\u001b[39m \u001b[43mapi\u001b[49m\u001b[38;5;241;43m.\u001b[39;49m\u001b[43mlist_repos\u001b[49m(token\u001b[38;5;241m=\u001b[39mtoken)\n\u001b[1;32m     19\u001b[0m \u001b[38;5;66;03m# Exibe os repositórios encontrados\u001b[39;00m\n\u001b[1;32m     20\u001b[0m \u001b[38;5;28;01mfor\u001b[39;00m repo \u001b[38;5;129;01min\u001b[39;00m repos:\n",
      "\u001b[0;31mAttributeError\u001b[0m: 'HfApi' object has no attribute 'list_repos'"
     ]
    }
   ],
   "source": [
    "api = HfApi()\n",
    "username = \"annagoncalves2\"\n",
    "\n",
    "# Lista modelos\n",
    "models = api.list_models(author=username, token=token)\n",
    "\n",
    "# Exibe os repositórios encontrados\n",
    "print(\"📌 Modelos:\")\n",
    "for model in models:\n",
    "    print(f\"🔹 {model.id} | Privado: {model.private}\")"
   ]
  },
  {
   "cell_type": "markdown",
   "metadata": {},
   "source": [
    "# Deletar repositórios"
   ]
  },
  {
   "cell_type": "code",
   "execution_count": 5,
   "metadata": {},
   "outputs": [
    {
     "name": "stdout",
     "output_type": "stream",
     "text": [
      "Repositório annagoncalves2/unsloth-zephyr-sft-bnb-4bit-glosa-v1 excluído com sucesso.\n",
      "Repositório annagoncalves2/unsloth-mistral-7b-bnb-4bit-glosa-v2 excluído com sucesso.\n",
      "Repositório annagoncalves2/glosa-Qwen2.5-7B-gguf excluído com sucesso.\n",
      "Repositório annagoncalves2/glosa-Phi-4-unsloth-bnb-4bit excluído com sucesso.\n",
      "Repositório annagoncalves2/glosa-Phi-4-unsloth-bnb-4bit-gguf excluído com sucesso.\n"
     ]
    },
    {
     "name": "stdout",
     "output_type": "stream",
     "text": [
      "Repositório annagoncalves2/Phi-4-unsloth-bnb-4bit excluído com sucesso.\n",
      "Repositório annagoncalves2/Phi-4-unsloth-bnb-4bit-gguf excluído com sucesso.\n",
      "Repositório annagoncalves2/QwQ-32B-bnb-4bit excluído com sucesso.\n",
      "Repositório annagoncalves2/QwQ-32B-bnb-4bit-gguf excluído com sucesso.\n"
     ]
    }
   ],
   "source": [
    "api = HfApi()\n",
    "\n",
    "repositories_to_delete = [\n",
    "\n",
    "    \"annagoncalves2/unsloth-zephyr-sft-bnb-4bit-glosa-v1\",\n",
    "    \"annagoncalves2/unsloth-mistral-7b-bnb-4bit-glosa-v2\",\n",
    "    \"annagoncalves2/glosa-Qwen2.5-7B-gguf\",\n",
    "    \"annagoncalves2/glosa-Phi-4-unsloth-bnb-4bit\",\n",
    "    \"annagoncalves2/glosa-Phi-4-unsloth-bnb-4bit-gguf\",\n",
    "    \"annagoncalves2/Phi-4-unsloth-bnb-4bit\",\n",
    "    \"annagoncalves2/Phi-4-unsloth-bnb-4bit-gguf\",\n",
    "    \"annagoncalves2/QwQ-32B-bnb-4bit\",\n",
    "    \"annagoncalves2/QwQ-32B-bnb-4bit-gguf\",\n",
    "  \n",
    "]\n",
    "\n",
    "\n",
    "# Excluir repositórios individualmente\n",
    "for repo in repositories_to_delete:\n",
    "    \n",
    "    api.delete_repo(repo_id=repo, token=token)\n",
    "    print(f\"Repositório {repo} excluído com sucesso.\")\n"
   ]
  },
  {
   "cell_type": "markdown",
   "metadata": {},
   "source": [
    "# Criar repositórios"
   ]
  },
  {
   "cell_type": "code",
   "execution_count": 6,
   "metadata": {},
   "outputs": [
    {
     "name": "stdout",
     "output_type": "stream",
     "text": [
      "🔒 Repositório privado phi-4-unsloth-bnb-4bit-v2 criado com sucesso.\n",
      "🔒 Repositório privado zephyr-sft-bnb-4bit-v2 criado com sucesso.\n",
      "🔒 Repositório privado Llama-3.3-70B-Instruct-bnb-4bit-v2 criado com sucesso.\n"
     ]
    }
   ],
   "source": [
    "\n",
    "api = HfApi()\n",
    "\n",
    "repositories_to_create = [\n",
    "    \n",
    "    #\"annagoncalves2/Llama-3.2-3B-Instruct-unsloth-bnb-4bit-v2\",\n",
    "    #\"annagoncalves2/Qwen2.5-7B-Instruct-bnb-4bit-v2\",\n",
    "    #\"annagoncalves2/DeepSeek-R1-Distill-Llama-8B-v2\"\n",
    "    \"phi-4-unsloth-bnb-4bit-v2\",\n",
    "                \"zephyr-sft-bnb-4bit-v2\",\n",
    "                \"Llama-3.3-70B-Instruct-bnb-4bit-v2\"\n",
    "\n",
    "    ]\n",
    "\n",
    "# Criar repositórios privados\n",
    "for repo in repositories_to_create:\n",
    "    api.create_repo(repo_id=repo, token=token, private=True, exist_ok=True)\n",
    "    print(f\"🔒 Repositório privado {repo} criado com sucesso.\")\n"
   ]
  },
  {
   "cell_type": "code",
   "execution_count": null,
   "metadata": {},
   "outputs": [],
   "source": []
  }
 ],
 "metadata": {
  "kernelspec": {
   "display_name": "Python 3",
   "language": "python",
   "name": "python3"
  },
  "language_info": {
   "codemirror_mode": {
    "name": "ipython",
    "version": 3
   },
   "file_extension": ".py",
   "mimetype": "text/x-python",
   "name": "python",
   "nbconvert_exporter": "python",
   "pygments_lexer": "ipython3",
   "version": "3.10.12"
  }
 },
 "nbformat": 4,
 "nbformat_minor": 2
}
