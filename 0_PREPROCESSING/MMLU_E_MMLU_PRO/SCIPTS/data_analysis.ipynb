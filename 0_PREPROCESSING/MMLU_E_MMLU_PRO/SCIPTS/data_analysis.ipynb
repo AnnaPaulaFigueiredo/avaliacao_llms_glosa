{
 "cells": [
  {
   "cell_type": "markdown",
   "metadata": {},
   "source": [
    "# Imports"
   ]
  },
  {
   "cell_type": "code",
   "execution_count": 142,
   "metadata": {},
   "outputs": [
    {
     "data": {
      "text/plain": [
       "'! pip install torch\\n! pip install tensorflow\\n! pip install transformers\\n! pip install flax'"
      ]
     },
     "execution_count": 142,
     "metadata": {},
     "output_type": "execute_result"
    }
   ],
   "source": [
    "'''! pip install torch\n",
    "! pip install tensorflow\n",
    "! pip install transformers\n",
    "! pip install flax'''"
   ]
  },
  {
   "cell_type": "code",
   "execution_count": 2,
   "metadata": {},
   "outputs": [],
   "source": [
    "import pandas as pd\n",
    "from transformers import AutoTokenizer"
   ]
  },
  {
   "cell_type": "markdown",
   "metadata": {},
   "source": [
    "# MMLU Translated"
   ]
  },
  {
   "cell_type": "code",
   "execution_count": 144,
   "metadata": {},
   "outputs": [
    {
     "name": "stdout",
     "output_type": "stream",
     "text": [
      "((15573, 11), 15573)\n"
     ]
    },
    {
     "data": {
      "text/html": [
       "<div>\n",
       "<style scoped>\n",
       "    .dataframe tbody tr th:only-of-type {\n",
       "        vertical-align: middle;\n",
       "    }\n",
       "\n",
       "    .dataframe tbody tr th {\n",
       "        vertical-align: top;\n",
       "    }\n",
       "\n",
       "    .dataframe thead th {\n",
       "        text-align: right;\n",
       "    }\n",
       "</style>\n",
       "<table border=\"1\" class=\"dataframe\">\n",
       "  <thead>\n",
       "    <tr style=\"text-align: right;\">\n",
       "      <th></th>\n",
       "      <th>question_id</th>\n",
       "      <th>question</th>\n",
       "      <th>question_status</th>\n",
       "      <th>choice_1</th>\n",
       "      <th>choice_1_status</th>\n",
       "      <th>choice_2</th>\n",
       "      <th>choice_2_status</th>\n",
       "      <th>choice_3</th>\n",
       "      <th>choice_3_status</th>\n",
       "      <th>choice_4</th>\n",
       "      <th>choice_4_status</th>\n",
       "    </tr>\n",
       "  </thead>\n",
       "  <tbody>\n",
       "    <tr>\n",
       "      <th>0</th>\n",
       "      <td>0</td>\n",
       "      <td>Encontre o grau para a extensão de campo dada ...</td>\n",
       "      <td>ok</td>\n",
       "      <td>0</td>\n",
       "      <td>skipped</td>\n",
       "      <td>4</td>\n",
       "      <td>skipped</td>\n",
       "      <td>2</td>\n",
       "      <td>skipped</td>\n",
       "      <td>6</td>\n",
       "      <td>skipped</td>\n",
       "    </tr>\n",
       "    <tr>\n",
       "      <th>1</th>\n",
       "      <td>1</td>\n",
       "      <td>Seja p = (1, 2, 5, 4)(2, 3) em S_5 . Encontre ...</td>\n",
       "      <td>ok</td>\n",
       "      <td>8</td>\n",
       "      <td>skipped</td>\n",
       "      <td>2</td>\n",
       "      <td>skipped</td>\n",
       "      <td>24</td>\n",
       "      <td>skipped</td>\n",
       "      <td>120</td>\n",
       "      <td>skipped</td>\n",
       "    </tr>\n",
       "    <tr>\n",
       "      <th>2</th>\n",
       "      <td>2</td>\n",
       "      <td>Encontre todos os zeros no campo finito indica...</td>\n",
       "      <td>ok</td>\n",
       "      <td>0</td>\n",
       "      <td>skipped</td>\n",
       "      <td>1</td>\n",
       "      <td>skipped</td>\n",
       "      <td>0,1</td>\n",
       "      <td>skipped</td>\n",
       "      <td>0,4</td>\n",
       "      <td>skipped</td>\n",
       "    </tr>\n",
       "    <tr>\n",
       "      <th>3</th>\n",
       "      <td>3</td>\n",
       "      <td>Afirmação 1 | Um grupo de fatores de um grupo ...</td>\n",
       "      <td>ok</td>\n",
       "      <td>Verdade, Verdade</td>\n",
       "      <td>ok</td>\n",
       "      <td>Falso, Falso</td>\n",
       "      <td>ok</td>\n",
       "      <td>Verdadeiro, Falso</td>\n",
       "      <td>ok</td>\n",
       "      <td>Falso, Verdadeiro</td>\n",
       "      <td>ok</td>\n",
       "    </tr>\n",
       "    <tr>\n",
       "      <th>4</th>\n",
       "      <td>4</td>\n",
       "      <td>Encontre o produto dos polinômios dados no ane...</td>\n",
       "      <td>ok</td>\n",
       "      <td>2x^2 + 5</td>\n",
       "      <td>ok</td>\n",
       "      <td>6x^2 + 4x + 6</td>\n",
       "      <td>ok</td>\n",
       "      <td>0</td>\n",
       "      <td>skipped</td>\n",
       "      <td>x^2 + 1</td>\n",
       "      <td>ok</td>\n",
       "    </tr>\n",
       "  </tbody>\n",
       "</table>\n",
       "</div>"
      ],
      "text/plain": [
       "   question_id                                           question  \\\n",
       "0            0  Encontre o grau para a extensão de campo dada ...   \n",
       "1            1  Seja p = (1, 2, 5, 4)(2, 3) em S_5 . Encontre ...   \n",
       "2            2  Encontre todos os zeros no campo finito indica...   \n",
       "3            3  Afirmação 1 | Um grupo de fatores de um grupo ...   \n",
       "4            4  Encontre o produto dos polinômios dados no ane...   \n",
       "\n",
       "  question_status          choice_1 choice_1_status       choice_2  \\\n",
       "0              ok                 0         skipped              4   \n",
       "1              ok                 8         skipped              2   \n",
       "2              ok                 0         skipped              1   \n",
       "3              ok  Verdade, Verdade              ok   Falso, Falso   \n",
       "4              ok          2x^2 + 5              ok  6x^2 + 4x + 6   \n",
       "\n",
       "  choice_2_status           choice_3 choice_3_status           choice_4  \\\n",
       "0         skipped                  2         skipped                  6   \n",
       "1         skipped                 24         skipped                120   \n",
       "2         skipped                0,1         skipped                0,4   \n",
       "3              ok  Verdadeiro, Falso              ok  Falso, Verdadeiro   \n",
       "4              ok                  0         skipped            x^2 + 1   \n",
       "\n",
       "  choice_4_status  \n",
       "0         skipped  \n",
       "1         skipped  \n",
       "2         skipped  \n",
       "3              ok  \n",
       "4              ok  "
      ]
     },
     "execution_count": 144,
     "metadata": {},
     "output_type": "execute_result"
    }
   ],
   "source": [
    "df_translated = pd.read_json('../DATASETS/mmlu.json')\n",
    "print((df_translated.shape, df_translated.question_id.nunique()))\n",
    "df_translated.head()"
   ]
  },
  {
   "cell_type": "markdown",
   "metadata": {},
   "source": [
    "## Error analysis"
   ]
  },
  {
   "cell_type": "markdown",
   "metadata": {},
   "source": [
    "Verificar as questions que deu skip e cancelar os ids dela."
   ]
  },
  {
   "cell_type": "code",
   "execution_count": 3,
   "metadata": {},
   "outputs": [
    {
     "ename": "NameError",
     "evalue": "name 'df_translated' is not defined",
     "output_type": "error",
     "traceback": [
      "\u001b[1;31m---------------------------------------------------------------------------\u001b[0m",
      "\u001b[1;31mNameError\u001b[0m                                 Traceback (most recent call last)",
      "Cell \u001b[1;32mIn[3], line 1\u001b[0m\n\u001b[1;32m----> 1\u001b[0m \u001b[43mdf_translated\u001b[49m\u001b[38;5;241m.\u001b[39mquery(\u001b[38;5;124m\"\u001b[39m\u001b[38;5;124mquestion_status == \u001b[39m\u001b[38;5;124m'\u001b[39m\u001b[38;5;124mskipped\u001b[39m\u001b[38;5;124m'\u001b[39m\u001b[38;5;124m\"\u001b[39m)\u001b[38;5;241m.\u001b[39mshape\n",
      "\u001b[1;31mNameError\u001b[0m: name 'df_translated' is not defined"
     ]
    }
   ],
   "source": [
    "df_translated.query(\"question_status == 'skipped'\").shape"
   ]
  },
  {
   "cell_type": "code",
   "execution_count": 146,
   "metadata": {},
   "outputs": [
    {
     "data": {
      "text/plain": [
       "array([1044, 1086, 5751, 5788])"
      ]
     },
     "execution_count": 146,
     "metadata": {},
     "output_type": "execute_result"
    }
   ],
   "source": [
    "ids_to_skipped = df_translated.query(\"question_status == 'skipped'\")['question_id'].unique()\n",
    "ids_to_skipped"
   ]
  },
  {
   "cell_type": "code",
   "execution_count": 147,
   "metadata": {},
   "outputs": [
    {
     "data": {
      "text/plain": [
       "(15569, 11)"
      ]
     },
     "execution_count": 147,
     "metadata": {},
     "output_type": "execute_result"
    }
   ],
   "source": [
    "df_translated = df_translated[~df_translated['question_id'].isin(ids_to_skipped)]\n",
    "df_translated.shape"
   ]
  },
  {
   "cell_type": "markdown",
   "metadata": {},
   "source": [
    "Verificar os casos de erro, pois eles não devem garantir a validade da instância."
   ]
  },
  {
   "cell_type": "code",
   "execution_count": 148,
   "metadata": {},
   "outputs": [
    {
     "name": "stdout",
     "output_type": "stream",
     "text": [
      "IDs com erros nas escolhas: [185, 709, 13346, 14396] Quantidade: 4\n"
     ]
    }
   ],
   "source": [
    "errors_ids = df_translated[\n",
    "    (df_translated['choice_1_status'] == 'erro') |\n",
    "    (df_translated['choice_2_status'] == 'erro') |\n",
    "    (df_translated['choice_3_status'] == 'erro') |\n",
    "    (df_translated['choice_4_status'] == 'erro')\n",
    "]\n",
    "\n",
    "error_ids_list = errors_ids['question_id'].tolist()\n",
    "print(\"IDs com erros nas escolhas:\", error_ids_list, \"Quantidade:\", len(error_ids_list))"
   ]
  },
  {
   "cell_type": "code",
   "execution_count": 149,
   "metadata": {},
   "outputs": [
    {
     "data": {
      "text/plain": [
       "(15565, 11)"
      ]
     },
     "execution_count": 149,
     "metadata": {},
     "output_type": "execute_result"
    }
   ],
   "source": [
    "df_translated = df_translated[~df_translated['question_id'].isin(error_ids_list)]\n",
    "df_translated.shape"
   ]
  },
  {
   "cell_type": "markdown",
   "metadata": {},
   "source": [
    "# Format Figurative"
   ]
  },
  {
   "cell_type": "code",
   "execution_count": 150,
   "metadata": {},
   "outputs": [
    {
     "data": {
      "text/plain": [
       "((77825, 2), 77825)"
      ]
     },
     "execution_count": 150,
     "metadata": {},
     "output_type": "execute_result"
    }
   ],
   "source": [
    "def create_dataframe(df, col_name):\n",
    "    dict_names = {'question':'Q1','choice_1':'C1', 'choice_2':'C2', 'choice_3':'C3', 'choice_4':'C4' }\n",
    "    return df[[\"question_id\", col_name]].rename(columns={col_name: \"ORIGINAL\"}).assign(ID=lambda x: x[\"question_id\"].astype(str) + dict_names[col_name])\n",
    "\n",
    "df_question = create_dataframe(df_translated, \"question\")\n",
    "df_choice_1 = create_dataframe(df_translated, \"choice_1\")\n",
    "df_choice_2 = create_dataframe(df_translated, \"choice_2\")\n",
    "df_choice_3 = create_dataframe(df_translated, \"choice_3\")\n",
    "df_choice_4 = create_dataframe(df_translated, \"choice_4\")\n",
    "\n",
    "final_df = pd.concat([df_question, df_choice_1, df_choice_2, df_choice_3, df_choice_4], ignore_index=True)\n",
    "final_df = final_df[['ID', 'ORIGINAL']]\n",
    "final_df.shape, final_df.ID.nunique()"
   ]
  },
  {
   "cell_type": "code",
   "execution_count": 151,
   "metadata": {},
   "outputs": [],
   "source": [
    "assert final_df.shape[0] == df_translated.shape[0] * 5, \"Erro: O número de linhas no dataframe final não corresponde ao esperado (5 vezes o original). Verifique o processamento dos dados.\""
   ]
  },
  {
   "cell_type": "code",
   "execution_count": 152,
   "metadata": {},
   "outputs": [
    {
     "data": {
      "text/html": [
       "<div>\n",
       "<style scoped>\n",
       "    .dataframe tbody tr th:only-of-type {\n",
       "        vertical-align: middle;\n",
       "    }\n",
       "\n",
       "    .dataframe tbody tr th {\n",
       "        vertical-align: top;\n",
       "    }\n",
       "\n",
       "    .dataframe thead th {\n",
       "        text-align: right;\n",
       "    }\n",
       "</style>\n",
       "<table border=\"1\" class=\"dataframe\">\n",
       "  <thead>\n",
       "    <tr style=\"text-align: right;\">\n",
       "      <th></th>\n",
       "      <th>ID</th>\n",
       "      <th>ORIGINAL</th>\n",
       "    </tr>\n",
       "  </thead>\n",
       "  <tbody>\n",
       "    <tr>\n",
       "      <th>0</th>\n",
       "      <td>0Q1</td>\n",
       "      <td>Encontre o grau para a extensão de campo dada ...</td>\n",
       "    </tr>\n",
       "    <tr>\n",
       "      <th>1</th>\n",
       "      <td>1Q1</td>\n",
       "      <td>Seja p = (1, 2, 5, 4)(2, 3) em S_5 . Encontre ...</td>\n",
       "    </tr>\n",
       "    <tr>\n",
       "      <th>2</th>\n",
       "      <td>2Q1</td>\n",
       "      <td>Encontre todos os zeros no campo finito indica...</td>\n",
       "    </tr>\n",
       "    <tr>\n",
       "      <th>3</th>\n",
       "      <td>3Q1</td>\n",
       "      <td>Afirmação 1 | Um grupo de fatores de um grupo ...</td>\n",
       "    </tr>\n",
       "    <tr>\n",
       "      <th>4</th>\n",
       "      <td>4Q1</td>\n",
       "      <td>Encontre o produto dos polinômios dados no ane...</td>\n",
       "    </tr>\n",
       "  </tbody>\n",
       "</table>\n",
       "</div>"
      ],
      "text/plain": [
       "    ID                                           ORIGINAL\n",
       "0  0Q1  Encontre o grau para a extensão de campo dada ...\n",
       "1  1Q1  Seja p = (1, 2, 5, 4)(2, 3) em S_5 . Encontre ...\n",
       "2  2Q1  Encontre todos os zeros no campo finito indica...\n",
       "3  3Q1  Afirmação 1 | Um grupo de fatores de um grupo ...\n",
       "4  4Q1  Encontre o produto dos polinômios dados no ane..."
      ]
     },
     "execution_count": 152,
     "metadata": {},
     "output_type": "execute_result"
    }
   ],
   "source": [
    "final_df.head()"
   ]
  },
  {
   "cell_type": "markdown",
   "metadata": {},
   "source": [
    "# Estimate tokens"
   ]
  },
  {
   "cell_type": "code",
   "execution_count": null,
   "metadata": {},
   "outputs": [],
   "source": [
    "def calculate_tokens(df, columns, tokenizer_model=\"gpt2\"):\n",
    "    \"\"\"\n",
    "    Calcula o número de tokens para colunas especificadas em um DataFrame usando um tokenizer.\n",
    "\n",
    "    Args:\n",
    "        df (pd.DataFrame): DataFrame de entrada contendo os dados de texto.\n",
    "        columns (list): Lista de colunas do DataFrame para calcular os tokens.\n",
    "        tokenizer_model (str): Nome do modelo para carregar o tokenizer. Padrão é \"gpt2\".\n",
    "\n",
    "    Returns:\n",
    "        pd.DataFrame: DataFrame atualizado com colunas contendo o número de tokens.\n",
    "    \"\"\"\n",
    "    tokenizer = AutoTokenizer.from_pretrained(tokenizer_model)\n",
    "\n",
    "    def count_tokens(text):\n",
    "        if not text or not isinstance(text, str):\n",
    "            return 0\n",
    "        return len(tokenizer.encode(text, truncation=True))\n",
    "\n",
    "    for column in columns:\n",
    "        token_column_name = f\"TOKENS_EST_{column.upper()}\"\n",
    "        df[token_column_name] = df[column].apply(count_tokens)\n",
    "\n",
    "    total_tokens_column = \"TOTAL_TOKENS\"\n",
    "    token_columns = [f\"TOKENS_EST_{col.upper()}\" for col in columns if f\"TOKENS_EST_{col.upper()}\" in df.columns]\n",
    "\n",
    "    if token_columns:\n",
    "        df[total_tokens_column] = df[token_columns].sum(axis=1)\n",
    "    else:\n",
    "        df[total_tokens_column] = 0\n",
    "    return df\n",
    "\n",
    "df_to_figurative_final = calculate_tokens(final_df, ['ID', 'ORIGINAL'])\n",
    "print(f\"To figurative:{df_to_figurative_final.shape}, ids únicos: {df_to_figurative_final['ID'].nunique()}\")\n",
    "df_to_figurative_final.head()"
   ]
  },
  {
   "cell_type": "markdown",
   "metadata": {},
   "source": [
    "# Save dataframe"
   ]
  },
  {
   "cell_type": "code",
   "execution_count": 154,
   "metadata": {},
   "outputs": [],
   "source": [
    "df_to_figurative_final.to_csv(\"../DATASETS/mmlu_to_figurative.csv\", index=False)"
   ]
  },
  {
   "cell_type": "markdown",
   "metadata": {},
   "source": [
    "# MMLU-PRO"
   ]
  },
  {
   "cell_type": "code",
   "execution_count": 5,
   "metadata": {},
   "outputs": [
    {
     "name": "stdout",
     "output_type": "stream",
     "text": [
      "MMLU-PRO ((12102, 23), 12102)\n"
     ]
    },
    {
     "data": {
      "text/html": [
       "<div>\n",
       "<style scoped>\n",
       "    .dataframe tbody tr th:only-of-type {\n",
       "        vertical-align: middle;\n",
       "    }\n",
       "\n",
       "    .dataframe tbody tr th {\n",
       "        vertical-align: top;\n",
       "    }\n",
       "\n",
       "    .dataframe thead th {\n",
       "        text-align: right;\n",
       "    }\n",
       "</style>\n",
       "<table border=\"1\" class=\"dataframe\">\n",
       "  <thead>\n",
       "    <tr style=\"text-align: right;\">\n",
       "      <th></th>\n",
       "      <th>question_id</th>\n",
       "      <th>question</th>\n",
       "      <th>question_status</th>\n",
       "      <th>choice_1</th>\n",
       "      <th>choice_1_status</th>\n",
       "      <th>choice_2</th>\n",
       "      <th>choice_2_status</th>\n",
       "      <th>choice_3</th>\n",
       "      <th>choice_3_status</th>\n",
       "      <th>choice_4</th>\n",
       "      <th>...</th>\n",
       "      <th>choice_6</th>\n",
       "      <th>choice_6_status</th>\n",
       "      <th>choice_7</th>\n",
       "      <th>choice_7_status</th>\n",
       "      <th>choice_8</th>\n",
       "      <th>choice_8_status</th>\n",
       "      <th>choice_9</th>\n",
       "      <th>choice_9_status</th>\n",
       "      <th>choice_10</th>\n",
       "      <th>choice_10_status</th>\n",
       "    </tr>\n",
       "  </thead>\n",
       "  <tbody>\n",
       "    <tr>\n",
       "      <th>0</th>\n",
       "      <td>0</td>\n",
       "      <td>O grupo simétrico $S_n$ tem $\\n\\factorial{n}$ ...</td>\n",
       "      <td>ok</td>\n",
       "      <td>0</td>\n",
       "      <td>skipped</td>\n",
       "      <td>30</td>\n",
       "      <td>skipped</td>\n",
       "      <td>3</td>\n",
       "      <td>skipped</td>\n",
       "      <td>10</td>\n",
       "      <td>...</td>\n",
       "      <td>50</td>\n",
       "      <td>skipped</td>\n",
       "      <td>2</td>\n",
       "      <td>skipped</td>\n",
       "      <td>100</td>\n",
       "      <td>skipped</td>\n",
       "      <td>20</td>\n",
       "      <td>skipped</td>\n",
       "      <td>5</td>\n",
       "      <td>skipped</td>\n",
       "    </tr>\n",
       "    <tr>\n",
       "      <th>1</th>\n",
       "      <td>1</td>\n",
       "      <td>Seja V o conjunto de todos os polinômios reais...</td>\n",
       "      <td>ok</td>\n",
       "      <td>ST + TS é o mapa identidade de V sobre si mesmo.</td>\n",
       "      <td>ok</td>\n",
       "      <td>TS = 0</td>\n",
       "      <td>ok</td>\n",
       "      <td>ST = 1</td>\n",
       "      <td>ok</td>\n",
       "      <td>ST - TS = 0</td>\n",
       "      <td>...</td>\n",
       "      <td>ST = 0</td>\n",
       "      <td>ok</td>\n",
       "      <td>ST = TS</td>\n",
       "      <td>ok</td>\n",
       "      <td>ST - TS é o mapa de identidade de V sobre si m...</td>\n",
       "      <td>ok</td>\n",
       "      <td>TS = T</td>\n",
       "      <td>ok</td>\n",
       "      <td>ST = S</td>\n",
       "      <td>ok</td>\n",
       "    </tr>\n",
       "  </tbody>\n",
       "</table>\n",
       "<p>2 rows × 23 columns</p>\n",
       "</div>"
      ],
      "text/plain": [
       "   question_id                                           question  \\\n",
       "0            0  O grupo simétrico $S_n$ tem $\\n\\factorial{n}$ ...   \n",
       "1            1  Seja V o conjunto de todos os polinômios reais...   \n",
       "\n",
       "  question_status                                          choice_1  \\\n",
       "0              ok                                                 0   \n",
       "1              ok  ST + TS é o mapa identidade de V sobre si mesmo.   \n",
       "\n",
       "  choice_1_status choice_2 choice_2_status choice_3 choice_3_status  \\\n",
       "0         skipped       30         skipped        3         skipped   \n",
       "1              ok   TS = 0              ok   ST = 1              ok   \n",
       "\n",
       "      choice_4  ... choice_6 choice_6_status choice_7 choice_7_status  \\\n",
       "0           10  ...       50         skipped        2         skipped   \n",
       "1  ST - TS = 0  ...   ST = 0              ok  ST = TS              ok   \n",
       "\n",
       "                                            choice_8 choice_8_status choice_9  \\\n",
       "0                                                100         skipped       20   \n",
       "1  ST - TS é o mapa de identidade de V sobre si m...              ok   TS = T   \n",
       "\n",
       "  choice_9_status choice_10 choice_10_status  \n",
       "0         skipped         5          skipped  \n",
       "1              ok    ST = S               ok  \n",
       "\n",
       "[2 rows x 23 columns]"
      ]
     },
     "execution_count": 5,
     "metadata": {},
     "output_type": "execute_result"
    }
   ],
   "source": [
    "df_translated_pro = pd.read_json('../DATASETS/mmlu-pro.json')\n",
    "print(\"MMLU-PRO\", (df_translated_pro.shape, df_translated_pro.question_id.nunique()))\n",
    "df_translated_pro.head(2)"
   ]
  },
  {
   "cell_type": "code",
   "execution_count": 6,
   "metadata": {},
   "outputs": [
    {
     "data": {
      "text/plain": [
       "(4, 23)"
      ]
     },
     "execution_count": 6,
     "metadata": {},
     "output_type": "execute_result"
    }
   ],
   "source": [
    "df_translated_pro.query(\"question_status == 'skipped'\").shape"
   ]
  },
  {
   "cell_type": "code",
   "execution_count": 8,
   "metadata": {},
   "outputs": [
    {
     "data": {
      "text/plain": [
       "array([ 4790,  4982, 10362, 10592])"
      ]
     },
     "execution_count": 8,
     "metadata": {},
     "output_type": "execute_result"
    }
   ],
   "source": [
    "ids_to_skipped = df_translated_pro.query(\"question_status == 'skipped'\")['question_id'].unique()\n",
    "ids_to_skipped"
   ]
  },
  {
   "cell_type": "code",
   "execution_count": 9,
   "metadata": {},
   "outputs": [
    {
     "data": {
      "text/plain": [
       "(12098, 23)"
      ]
     },
     "execution_count": 9,
     "metadata": {},
     "output_type": "execute_result"
    }
   ],
   "source": [
    "df_translated_pro = df_translated_pro[~df_translated_pro['question_id'].isin(ids_to_skipped)]\n",
    "df_translated_pro.shape"
   ]
  },
  {
   "cell_type": "code",
   "execution_count": 13,
   "metadata": {},
   "outputs": [
    {
     "name": "stdout",
     "output_type": "stream",
     "text": [
      "IDs com erros nas escolhas: [3280, 3527, 6731] Quantidade: 3\n"
     ]
    }
   ],
   "source": [
    "errors_ids = df_translated_pro[\n",
    "    (df_translated_pro['question_status'] == 'erro') |\n",
    "    (df_translated_pro['choice_1_status'] == 'erro') |\n",
    "    (df_translated_pro['choice_2_status'] == 'erro') |\n",
    "    (df_translated_pro['choice_3_status'] == 'erro') |\n",
    "    (df_translated_pro['choice_4_status'] == 'erro') |\n",
    "    (df_translated_pro['choice_5_status'] == 'erro') |\n",
    "    (df_translated_pro['choice_6_status'] == 'erro') |\n",
    "    (df_translated_pro['choice_7_status'] == 'erro') |\n",
    "    (df_translated_pro['choice_8_status'] == 'erro') |\n",
    "    (df_translated_pro['choice_9_status'] == 'erro') |\n",
    "    (df_translated_pro['choice_10_status'] == 'erro') \n",
    "]\n",
    "\n",
    "error_ids_list = errors_ids['question_id'].tolist()\n",
    "print(\"IDs com erros nas escolhas:\", error_ids_list, \"Quantidade:\", len(error_ids_list))"
   ]
  },
  {
   "cell_type": "code",
   "execution_count": 14,
   "metadata": {},
   "outputs": [
    {
     "data": {
      "text/plain": [
       "(12095, 23)"
      ]
     },
     "execution_count": 14,
     "metadata": {},
     "output_type": "execute_result"
    }
   ],
   "source": [
    "df_translated_pro = df_translated_pro[~df_translated_pro['question_id'].isin(error_ids_list)]\n",
    "df_translated_pro.shape"
   ]
  },
  {
   "cell_type": "code",
   "execution_count": 15,
   "metadata": {},
   "outputs": [
    {
     "data": {
      "text/plain": [
       "((133045, 2), 133045)"
      ]
     },
     "execution_count": 15,
     "metadata": {},
     "output_type": "execute_result"
    }
   ],
   "source": [
    "def create_dataframe(df, col_name):\n",
    "    dict_names = {'question':'Q1','choice_1':'C1', 'choice_2':'C2', 'choice_3':'C3', 'choice_4':'C4', 'choice_5':'C5',\n",
    "                  'choice_6':'C6', 'choice_7':'C7', 'choice_8':'C8', 'choice_9':'C9', 'choice_10':'C10' }\n",
    "\n",
    "    return df[[\"question_id\", col_name]].rename(columns={col_name: \"ORIGINAL\"}).assign(ID=lambda x: x[\"question_id\"].astype(str) + dict_names[col_name])\n",
    "\n",
    "df_question = create_dataframe(df_translated_pro, \"question\")\n",
    "df_choice_1 = create_dataframe(df_translated_pro, \"choice_1\")\n",
    "df_choice_2 = create_dataframe(df_translated_pro, \"choice_2\")\n",
    "df_choice_3 = create_dataframe(df_translated_pro, \"choice_3\")\n",
    "df_choice_4 = create_dataframe(df_translated_pro, \"choice_4\")\n",
    "df_choice_5 = create_dataframe(df_translated_pro, \"choice_5\")\n",
    "df_choice_6= create_dataframe(df_translated_pro, \"choice_6\")\n",
    "df_choice_7 = create_dataframe(df_translated_pro, \"choice_7\")\n",
    "df_choice_8 = create_dataframe(df_translated_pro, \"choice_8\")\n",
    "df_choice_9 = create_dataframe(df_translated_pro, \"choice_9\")\n",
    "df_choice_10 = create_dataframe(df_translated_pro, \"choice_10\")\n",
    "\n",
    "final_df_pro = pd.concat([df_question, df_choice_1, df_choice_2, df_choice_3, df_choice_4, df_choice_5,\n",
    "                           df_choice_6, df_choice_7, df_choice_8, df_choice_9, df_choice_10], ignore_index=True)\n",
    "\n",
    "final_df_pro = final_df_pro[['ID', 'ORIGINAL']]\n",
    "\n",
    "final_df_pro.shape, final_df_pro.ID.nunique()"
   ]
  },
  {
   "cell_type": "code",
   "execution_count": 16,
   "metadata": {},
   "outputs": [],
   "source": [
    "assert final_df_pro.shape[0] == df_translated_pro.shape[0] * 11, \"Erro: O número de linhas no dataframe final não corresponde ao esperado (11 vezes o original). Verifique o processamento dos dados.\""
   ]
  },
  {
   "cell_type": "code",
   "execution_count": 19,
   "metadata": {},
   "outputs": [
    {
     "name": "stdout",
     "output_type": "stream",
     "text": [
      "To figurative:(133045, 5), ids únicos: 133045\n"
     ]
    },
    {
     "data": {
      "text/html": [
       "<div>\n",
       "<style scoped>\n",
       "    .dataframe tbody tr th:only-of-type {\n",
       "        vertical-align: middle;\n",
       "    }\n",
       "\n",
       "    .dataframe tbody tr th {\n",
       "        vertical-align: top;\n",
       "    }\n",
       "\n",
       "    .dataframe thead th {\n",
       "        text-align: right;\n",
       "    }\n",
       "</style>\n",
       "<table border=\"1\" class=\"dataframe\">\n",
       "  <thead>\n",
       "    <tr style=\"text-align: right;\">\n",
       "      <th></th>\n",
       "      <th>ID</th>\n",
       "      <th>ORIGINAL</th>\n",
       "      <th>TOKENS_EST_ID</th>\n",
       "      <th>TOKENS_EST_ORIGINAL</th>\n",
       "      <th>TOTAL_TOKENS</th>\n",
       "    </tr>\n",
       "  </thead>\n",
       "  <tbody>\n",
       "    <tr>\n",
       "      <th>0</th>\n",
       "      <td>0Q1</td>\n",
       "      <td>O grupo simétrico $S_n$ tem $\\n\\factorial{n}$ ...</td>\n",
       "      <td>3</td>\n",
       "      <td>61</td>\n",
       "      <td>64</td>\n",
       "    </tr>\n",
       "    <tr>\n",
       "      <th>1</th>\n",
       "      <td>1Q1</td>\n",
       "      <td>Seja V o conjunto de todos os polinômios reais...</td>\n",
       "      <td>3</td>\n",
       "      <td>110</td>\n",
       "      <td>113</td>\n",
       "    </tr>\n",
       "    <tr>\n",
       "      <th>2</th>\n",
       "      <td>2Q1</td>\n",
       "      <td>Seja A o conjunto de todos os pares ordenados ...</td>\n",
       "      <td>3</td>\n",
       "      <td>69</td>\n",
       "      <td>72</td>\n",
       "    </tr>\n",
       "    <tr>\n",
       "      <th>3</th>\n",
       "      <td>3Q1</td>\n",
       "      <td>Um tanque contém inicialmente uma solução sali...</td>\n",
       "      <td>3</td>\n",
       "      <td>165</td>\n",
       "      <td>168</td>\n",
       "    </tr>\n",
       "    <tr>\n",
       "      <th>4</th>\n",
       "      <td>4Q1</td>\n",
       "      <td>Um total de 30 jogadores jogarão basquete em u...</td>\n",
       "      <td>3</td>\n",
       "      <td>63</td>\n",
       "      <td>66</td>\n",
       "    </tr>\n",
       "  </tbody>\n",
       "</table>\n",
       "</div>"
      ],
      "text/plain": [
       "    ID                                           ORIGINAL  TOKENS_EST_ID  \\\n",
       "0  0Q1  O grupo simétrico $S_n$ tem $\\n\\factorial{n}$ ...              3   \n",
       "1  1Q1  Seja V o conjunto de todos os polinômios reais...              3   \n",
       "2  2Q1  Seja A o conjunto de todos os pares ordenados ...              3   \n",
       "3  3Q1  Um tanque contém inicialmente uma solução sali...              3   \n",
       "4  4Q1  Um total de 30 jogadores jogarão basquete em u...              3   \n",
       "\n",
       "   TOKENS_EST_ORIGINAL  TOTAL_TOKENS  \n",
       "0                   61            64  \n",
       "1                  110           113  \n",
       "2                   69            72  \n",
       "3                  165           168  \n",
       "4                   63            66  "
      ]
     },
     "execution_count": 19,
     "metadata": {},
     "output_type": "execute_result"
    }
   ],
   "source": [
    "df_to_figurative_final_pro = calculate_tokens(final_df_pro, ['ID', 'ORIGINAL'])\n",
    "print(f\"To figurative:{df_to_figurative_final_pro.shape}, ids únicos: {df_to_figurative_final_pro['ID'].nunique()}\")\n",
    "df_to_figurative_final_pro.head()"
   ]
  },
  {
   "cell_type": "code",
   "execution_count": 20,
   "metadata": {},
   "outputs": [],
   "source": [
    "df_to_figurative_final_pro.to_csv(\"../DATASETS/mmlu_pro_to_figurative.csv\", index=False)"
   ]
  },
  {
   "cell_type": "code",
   "execution_count": null,
   "metadata": {},
   "outputs": [],
   "source": []
  }
 ],
 "metadata": {
  "kernelspec": {
   "display_name": "tradutor",
   "language": "python",
   "name": "python3"
  },
  "language_info": {
   "codemirror_mode": {
    "name": "ipython",
    "version": 3
   },
   "file_extension": ".py",
   "mimetype": "text/x-python",
   "name": "python",
   "nbconvert_exporter": "python",
   "pygments_lexer": "ipython3",
   "version": "3.11.0"
  }
 },
 "nbformat": 4,
 "nbformat_minor": 2
}
