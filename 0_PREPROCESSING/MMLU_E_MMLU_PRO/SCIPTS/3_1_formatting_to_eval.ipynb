{
 "cells": [
  {
   "cell_type": "code",
   "execution_count": 1,
   "metadata": {},
   "outputs": [],
   "source": [
    "import pandas as pd"
   ]
  },
  {
   "cell_type": "code",
   "execution_count": 11,
   "metadata": {},
   "outputs": [
    {
     "data": {
      "text/html": [
       "<div>\n",
       "<style scoped>\n",
       "    .dataframe tbody tr th:only-of-type {\n",
       "        vertical-align: middle;\n",
       "    }\n",
       "\n",
       "    .dataframe tbody tr th {\n",
       "        vertical-align: top;\n",
       "    }\n",
       "\n",
       "    .dataframe thead th {\n",
       "        text-align: right;\n",
       "    }\n",
       "</style>\n",
       "<table border=\"1\" class=\"dataframe\">\n",
       "  <thead>\n",
       "    <tr style=\"text-align: right;\">\n",
       "      <th></th>\n",
       "      <th>ID</th>\n",
       "      <th>GLOSA</th>\n",
       "    </tr>\n",
       "  </thead>\n",
       "  <tbody>\n",
       "    <tr>\n",
       "      <th>0</th>\n",
       "      <td>0Q1</td>\n",
       "      <td>GRAU ENCONTRAR EXTENSÃO CAMPO Q RAIZ QUADRADA ...</td>\n",
       "    </tr>\n",
       "  </tbody>\n",
       "</table>\n",
       "</div>"
      ],
      "text/plain": [
       "    ID                                              GLOSA\n",
       "0  0Q1  GRAU ENCONTRAR EXTENSÃO CAMPO Q RAIZ QUADRADA ..."
      ]
     },
     "execution_count": 11,
     "metadata": {},
     "output_type": "execute_result"
    }
   ],
   "source": [
    "df_result_glosa = pd.read_csv(\"/home/annap/Documents/chatbot-project/EVAL/DATASETS/MMLU/06_mmlu_gloss_results.csv\")\n",
    "df_result_glosa = df_result_glosa[['ID', 'GLOSA']]\n",
    "df_result_glosa.head(1)"
   ]
  },
  {
   "cell_type": "code",
   "execution_count": 25,
   "metadata": {},
   "outputs": [
    {
     "data": {
      "text/html": [
       "<div>\n",
       "<style scoped>\n",
       "    .dataframe tbody tr th:only-of-type {\n",
       "        vertical-align: middle;\n",
       "    }\n",
       "\n",
       "    .dataframe tbody tr th {\n",
       "        vertical-align: top;\n",
       "    }\n",
       "\n",
       "    .dataframe thead th {\n",
       "        text-align: right;\n",
       "    }\n",
       "</style>\n",
       "<table border=\"1\" class=\"dataframe\">\n",
       "  <thead>\n",
       "    <tr style=\"text-align: right;\">\n",
       "      <th></th>\n",
       "      <th>ID</th>\n",
       "      <th>GLOSA</th>\n",
       "      <th>ID_LINHA</th>\n",
       "      <th>TIPO</th>\n",
       "      <th>TIPO_LINHA</th>\n",
       "    </tr>\n",
       "  </thead>\n",
       "  <tbody>\n",
       "    <tr>\n",
       "      <th>0</th>\n",
       "      <td>0Q1</td>\n",
       "      <td>GRAU ENCONTRAR EXTENSÃO CAMPO Q RAIZ QUADRADA ...</td>\n",
       "      <td>1</td>\n",
       "      <td>Q</td>\n",
       "      <td>1</td>\n",
       "    </tr>\n",
       "  </tbody>\n",
       "</table>\n",
       "</div>"
      ],
      "text/plain": [
       "    ID                                              GLOSA  ID_LINHA TIPO  \\\n",
       "0  0Q1  GRAU ENCONTRAR EXTENSÃO CAMPO Q RAIZ QUADRADA ...         1    Q   \n",
       "\n",
       "   TIPO_LINHA  \n",
       "0           1  "
      ]
     },
     "execution_count": 25,
     "metadata": {},
     "output_type": "execute_result"
    }
   ],
   "source": [
    "# Extraindo número e letras separadamente\n",
    "df_result_glosa[['TIPO', 'TIPO_LINHA']] = df_result_glosa['ID'].str.extract(r'([A-Za-z]+)(\\d+)', expand=True)\n",
    "df_result_glosa = df_result_glosa.astype({'ID_LINHA': int, 'TIPO_LINHA':int})\n",
    "df_result_glosa.head(1)"
   ]
  },
  {
   "cell_type": "code",
   "execution_count": 29,
   "metadata": {},
   "outputs": [
    {
     "data": {
      "text/plain": [
       "(15313, 5)"
      ]
     },
     "execution_count": 29,
     "metadata": {},
     "output_type": "execute_result"
    }
   ],
   "source": [
    "Q1 = df_result_glosa[ df_result_glosa['TIPO'] == 'Q']\n",
    "Q1.shape"
   ]
  },
  {
   "cell_type": "code",
   "execution_count": 34,
   "metadata": {},
   "outputs": [
    {
     "data": {
      "text/plain": [
       "(15427, 5)"
      ]
     },
     "execution_count": 34,
     "metadata": {},
     "output_type": "execute_result"
    }
   ],
   "source": [
    "C1 = df_result_glosa[ (df_result_glosa['TIPO'] == 'C') & (df_result_glosa['TIPO_LINHA'] == 1)]\n",
    "C1.shape"
   ]
  },
  {
   "cell_type": "code",
   "execution_count": 35,
   "metadata": {},
   "outputs": [
    {
     "data": {
      "text/plain": [
       "(15429, 5)"
      ]
     },
     "execution_count": 35,
     "metadata": {},
     "output_type": "execute_result"
    }
   ],
   "source": [
    "C2 = df_result_glosa[ (df_result_glosa['TIPO'] == 'C') & (df_result_glosa['TIPO_LINHA'] == 2)]\n",
    "C2.shape"
   ]
  },
  {
   "cell_type": "code",
   "execution_count": 36,
   "metadata": {},
   "outputs": [
    {
     "data": {
      "text/plain": [
       "(15427, 5)"
      ]
     },
     "execution_count": 36,
     "metadata": {},
     "output_type": "execute_result"
    }
   ],
   "source": [
    "C3 = df_result_glosa[ (df_result_glosa['TIPO'] == 'C') & (df_result_glosa['TIPO_LINHA'] == 3)]\n",
    "C3.shape"
   ]
  },
  {
   "cell_type": "code",
   "execution_count": 37,
   "metadata": {},
   "outputs": [
    {
     "data": {
      "text/plain": [
       "(15425, 5)"
      ]
     },
     "execution_count": 37,
     "metadata": {},
     "output_type": "execute_result"
    }
   ],
   "source": [
    "C4 = df_result_glosa[ (df_result_glosa['TIPO'] == 'C') & (df_result_glosa['TIPO_LINHA'] == 4)]\n",
    "C4.shape"
   ]
  },
  {
   "cell_type": "code",
   "execution_count": 38,
   "metadata": {},
   "outputs": [
    {
     "data": {
      "text/html": [
       "<div>\n",
       "<style scoped>\n",
       "    .dataframe tbody tr th:only-of-type {\n",
       "        vertical-align: middle;\n",
       "    }\n",
       "\n",
       "    .dataframe tbody tr th {\n",
       "        vertical-align: top;\n",
       "    }\n",
       "\n",
       "    .dataframe thead th {\n",
       "        text-align: right;\n",
       "    }\n",
       "</style>\n",
       "<table border=\"1\" class=\"dataframe\">\n",
       "  <thead>\n",
       "    <tr style=\"text-align: right;\">\n",
       "      <th></th>\n",
       "      <th>ID</th>\n",
       "      <th>GLOSA</th>\n",
       "      <th>ID_LINHA</th>\n",
       "      <th>TIPO</th>\n",
       "      <th>TIPO_LINHA</th>\n",
       "    </tr>\n",
       "  </thead>\n",
       "  <tbody>\n",
       "    <tr>\n",
       "      <th>0</th>\n",
       "      <td>0Q1</td>\n",
       "      <td>GRAU ENCONTRAR EXTENSÃO CAMPO Q RAIZ QUADRADA ...</td>\n",
       "      <td>1</td>\n",
       "      <td>Q</td>\n",
       "      <td>1</td>\n",
       "    </tr>\n",
       "    <tr>\n",
       "      <th>1</th>\n",
       "      <td>1Q1</td>\n",
       "      <td>P 1 2 5 4 2 3 S5 ÍNDICE ENCONTRAR P S5.</td>\n",
       "      <td>1</td>\n",
       "      <td>Q</td>\n",
       "      <td>1</td>\n",
       "    </tr>\n",
       "    <tr>\n",
       "      <th>2</th>\n",
       "      <td>2Q1</td>\n",
       "      <td>ZERO TODOS ENCONTRAR CAMPO FINITO INDICADO POL...</td>\n",
       "      <td>1</td>\n",
       "      <td>Q</td>\n",
       "      <td>1</td>\n",
       "    </tr>\n",
       "    <tr>\n",
       "      <th>3</th>\n",
       "      <td>3Q1</td>\n",
       "      <td>AFIRMAÇÃO 1 GRUPO FATORES GRUPO NÃO-ABELIANO N...</td>\n",
       "      <td>1</td>\n",
       "      <td>Q</td>\n",
       "      <td>1</td>\n",
       "    </tr>\n",
       "    <tr>\n",
       "      <th>4</th>\n",
       "      <td>4Q1</td>\n",
       "      <td>PRODUTO ENCONTRAR POLINÔMIO ANEL POLINÔMIO F X...</td>\n",
       "      <td>1</td>\n",
       "      <td>Q</td>\n",
       "      <td>1</td>\n",
       "    </tr>\n",
       "  </tbody>\n",
       "</table>\n",
       "</div>"
      ],
      "text/plain": [
       "    ID                                              GLOSA  ID_LINHA TIPO  \\\n",
       "0  0Q1  GRAU ENCONTRAR EXTENSÃO CAMPO Q RAIZ QUADRADA ...         1    Q   \n",
       "1  1Q1            P 1 2 5 4 2 3 S5 ÍNDICE ENCONTRAR P S5.         1    Q   \n",
       "2  2Q1  ZERO TODOS ENCONTRAR CAMPO FINITO INDICADO POL...         1    Q   \n",
       "3  3Q1  AFIRMAÇÃO 1 GRUPO FATORES GRUPO NÃO-ABELIANO N...         1    Q   \n",
       "4  4Q1  PRODUTO ENCONTRAR POLINÔMIO ANEL POLINÔMIO F X...         1    Q   \n",
       "\n",
       "   TIPO_LINHA  \n",
       "0           1  \n",
       "1           1  \n",
       "2           1  \n",
       "3           1  \n",
       "4           1  "
      ]
     },
     "execution_count": 38,
     "metadata": {},
     "output_type": "execute_result"
    }
   ],
   "source": [
    "Q1.head()"
   ]
  },
  {
   "cell_type": "code",
   "execution_count": null,
   "metadata": {},
   "outputs": [],
   "source": []
  },
  {
   "cell_type": "code",
   "execution_count": null,
   "metadata": {},
   "outputs": [],
   "source": []
  },
  {
   "cell_type": "code",
   "execution_count": 39,
   "metadata": {},
   "outputs": [
    {
     "data": {
      "text/plain": [
       "'Find the degree for the given field extension Q(sqrt(2), sqrt(3), sqrt(18)) over Q.'"
      ]
     },
     "execution_count": 39,
     "metadata": {},
     "output_type": "execute_result"
    }
   ],
   "source": [
    "df_mmlu = pd.read_csv(\"/home/annap/Documents/chatbot-project/EVAL/DATASETS/MMLU/0_mmlu.csv\")\n",
    "df_mmlu.loc[0, 'question']"
   ]
  },
  {
   "cell_type": "code",
   "execution_count": 40,
   "metadata": {},
   "outputs": [
    {
     "data": {
      "text/plain": [
       "Unnamed: 0                                                      0\n",
       "question_id                                                     0\n",
       "question        Find the degree for the given field extension ...\n",
       "subject                                          abstract_algebra\n",
       "answer                                                          1\n",
       "choice_1                                                        0\n",
       "choice_2                                                        4\n",
       "choice_3                                                        2\n",
       "choice_4                                                        6\n",
       "is_duplicate                                                False\n",
       "Name: 0, dtype: object"
      ]
     },
     "execution_count": 40,
     "metadata": {},
     "output_type": "execute_result"
    }
   ],
   "source": [
    "df_mmlu.loc[0]"
   ]
  },
  {
   "cell_type": "code",
   "execution_count": null,
   "metadata": {},
   "outputs": [],
   "source": []
  }
 ],
 "metadata": {
  "kernelspec": {
   "display_name": "Python 3",
   "language": "python",
   "name": "python3"
  },
  "language_info": {
   "codemirror_mode": {
    "name": "ipython",
    "version": 3
   },
   "file_extension": ".py",
   "mimetype": "text/x-python",
   "name": "python",
   "nbconvert_exporter": "python",
   "pygments_lexer": "ipython3",
   "version": "3.10.12"
  }
 },
 "nbformat": 4,
 "nbformat_minor": 2
}
