{
 "cells": [
  {
   "cell_type": "markdown",
   "metadata": {},
   "source": [
    "# Imports"
   ]
  },
  {
   "cell_type": "code",
   "execution_count": 1,
   "metadata": {},
   "outputs": [
    {
     "name": "stderr",
     "output_type": "stream",
     "text": [
      "/home/annap/.local/lib/python3.10/site-packages/tqdm/auto.py:21: TqdmWarning: IProgress not found. Please update jupyter and ipywidgets. See https://ipywidgets.readthedocs.io/en/stable/user_install.html\n",
      "  from .autonotebook import tqdm as notebook_tqdm\n"
     ]
    }
   ],
   "source": [
    "import pandas as pd\n",
    "import re\n",
    "from tqdm.auto import tqdm\n",
    "tqdm.pandas()\n",
    "pd.set_option('display.max_colwidth', None)"
   ]
  },
  {
   "cell_type": "markdown",
   "metadata": {},
   "source": [
    "# Functions"
   ]
  },
  {
   "cell_type": "code",
   "execution_count": 2,
   "metadata": {},
   "outputs": [],
   "source": [
    "def get_last_line(text):\n",
    "    return text.strip().split(\"\\n\")[-1]\n",
    "\n",
    "def get_initial(text):\n",
    "    # Modificar regex para capturar 0., 1., 2., a., b., c., etc.\n",
    "    match = re.match(r\"^(0\\.|1\\.|2\\.|3\\.|4\\.|a\\.|b\\.|c\\.|d\\.|A\\.|B\\.|C\\.|D\\.)\", str(text).strip())\n",
    "    return match.group(0) if match else None\n",
    "\n",
    "def clean_and_remove_invisible_chars(text):\n",
    "    if not isinstance(text, str):  # Evita erro caso o valor seja NaN ou outro tipo\n",
    "        return text  \n",
    "\n",
    "    # Remover caracteres invisíveis e Unicode problemáticos\n",
    "    text = re.sub(r'[\\u200b\\u200c\\u200d\\ufeff\\xa0\\u202f\\u2060]', ' ', text)\n",
    "\n",
    "    # Remover padrões de resposta padronizados\n",
    "    text = re.sub(\n",
    "        r'^(?:A resposta correta é\\s*\"?|'  # \"A resposta correta é\"\n",
    "        r'Resposta correta:\\s*|'           # \"Resposta correta:\"\n",
    "        r'A resposta correta é a opção\\s*|' # \"A resposta correta é a opção\"\n",
    "        r'Resposta:\\s*|'                    # \"Resposta:\"\n",
    "        r'RESPOSTA:\\s*)',                    # \"RESPOSTA:\"\n",
    "        '', text, flags=re.IGNORECASE\n",
    "    )\n",
    "\n",
    "    # Remover múltiplos espaços\n",
    "    return re.sub(r'\\s+', ' ', text).strip()\n",
    "\n",
    "\n",
    "def replace_answer_data(text):\n",
    "    mapping = {\"a.\": 0, \"b.\": 1, \"c.\": 2, \"d.\": 3, 'A':1,'B':2,'C':3,'D':4}\n",
    "    return mapping.get(text, 'erro')  # Retorna o valor mapeado ou 'erro' se não estiver no dicionário\n",
    "\n",
    "def get_response_llama(text):\n",
    "    if not isinstance(text, str):  # Garante que text seja uma string\n",
    "        return text\n",
    "\n",
    "    patterns = [\n",
    "        \"Resposta:\\n\",\n",
    "        \"A resposta correta é a opção \",\n",
    "        \"A resposta final é a opção \",\n",
    "        \"Resposta correta:\\n\",\n",
    "        \"A resposta correta é: \",\n",
    "        \"Resposta correta: \",\n",
    "        \"A resposta correta é:\\n\",\n",
    "        \"Resposta: \",\n",
    "        \"a resposta correta é: \"\n",
    "    ]\n",
    "    \n",
    "    for pattern in patterns:\n",
    "        if pattern in text:\n",
    "            return text.split(pattern)[-1]  # Retorna apenas a última parte após o primeiro padrão encontrado\n",
    "    \n",
    "    return text  # Se nenhum padrão for encontrado, retorna o texto original\n"
   ]
  },
  {
   "cell_type": "markdown",
   "metadata": {},
   "source": [
    "# Load Qwen"
   ]
  },
  {
   "cell_type": "code",
   "execution_count": null,
   "metadata": {},
   "outputs": [],
   "source": [
    "'''\"LLAMA-unsloth-restricted-v2\": \"annagoncalves2/Llama-3.2-3B-Instruct-unsloth-bnb-4bit-v2\",\n",
    "    #\"Qwen-usloth-restricted-v2\": \"annagoncalves2/Qwen2.5-7B-Instruct-bnb-4bit-v2\",\n",
    "    #\"Deepseek-unsloth-restricted-v2\": \"annagoncalves2/DeepSeek-R1-Distill-Llama-8B-v2\",\n",
    "    #\"Phi-glosa-restricted-v2\": \"annagoncalves2/phi-4-unsloth-bnb-4bit-v2\",\n",
    "    \"zephyr-glosa-restricted-v2\"'''"
   ]
  },
  {
   "cell_type": "code",
   "execution_count": 4,
   "metadata": {},
   "outputs": [
    {
     "data": {
      "text/plain": [
       "(15136, 5)"
      ]
     },
     "execution_count": 4,
     "metadata": {},
     "output_type": "execute_result"
    }
   ],
   "source": [
    "df_qwen = pd.read_csv(\"/home/annap/Documents/chatbot-project/EVAL/DATASETS/INFERENCES/mmlu_eval_Qwen-usloth-restricted-v2_r.csv\")\n",
    "df_qwen.shape"
   ]
  },
  {
   "cell_type": "code",
   "execution_count": 5,
   "metadata": {},
   "outputs": [
    {
     "data": {
      "text/html": [
       "<div>\n",
       "<style scoped>\n",
       "    .dataframe tbody tr th:only-of-type {\n",
       "        vertical-align: middle;\n",
       "    }\n",
       "\n",
       "    .dataframe tbody tr th {\n",
       "        vertical-align: top;\n",
       "    }\n",
       "\n",
       "    .dataframe thead th {\n",
       "        text-align: right;\n",
       "    }\n",
       "</style>\n",
       "<table border=\"1\" class=\"dataframe\">\n",
       "  <thead>\n",
       "    <tr style=\"text-align: right;\">\n",
       "      <th></th>\n",
       "      <th>question_id</th>\n",
       "      <th>formatted_prompt</th>\n",
       "      <th>subject</th>\n",
       "      <th>answer</th>\n",
       "      <th>model_output_Qwen-usloth-restricted-v2</th>\n",
       "    </tr>\n",
       "  </thead>\n",
       "  <tbody>\n",
       "    <tr>\n",
       "      <th>0</th>\n",
       "      <td>0</td>\n",
       "      <td>Você é um assistente virtual altamente capacitado. Sua tarefa é ler uma pergunta e escolher a resposta correta entre as opções fornecidas. Responda apenas com a letra correspondente à resposta correta.\\n\\nPergunta:\\nGRAU ENCONTRAR EXTENSÃO CAMPO Q RAIZ QUADRADA 2 RAIZ QUADRADA 3 RAIZ QUADRADA 18 SOBRE Q.\\n\\nOpções disponíveis:\\na. 0\\nb. 4\\nc. 2\\nd. 6\\n</td>\n",
       "      <td>abstract_algebra</td>\n",
       "      <td>1</td>\n",
       "      <td>Você é um assistente virtual altamente capacitado. Sua tarefa é ler uma pergunta e escolher a resposta correta entre as opções fornecidas. Responda apenas com a letra correspondente à resposta correta.\\n\\nPergunta:\\nGRAU ENCONTRAR EXTENSÃO CAMPO Q RAIZ QUADRADA 2 RAIZ QUADRADA 3 RAIZ QUADRADA 18 SOBRE Q.\\n\\nOpções disponíveis:\\na. 0\\nb. 4\\nc. 2\\nd. 6\\ne. 5\\n\\nRESPOSTA: D. 6. \\n\\nEXPRESSÃO SIMPLIFICAR, 18 PODER MEIO DIVIDIR 2 PODER MEIO DIVIDIR 3 PODER MEIO</td>\n",
       "    </tr>\n",
       "    <tr>\n",
       "      <th>1</th>\n",
       "      <td>1</td>\n",
       "      <td>Você é um assistente virtual altamente capacitado. Sua tarefa é ler uma pergunta e escolher a resposta correta entre as opções fornecidas. Responda apenas com a letra correspondente à resposta correta.\\n\\nPergunta:\\nP 1 2 5 4 2 3 S5 ÍNDICE ENCONTRAR P S5.\\n\\nOpções disponíveis:\\na. 8\\nb. 2\\nc. 24\\nd. 120\\n</td>\n",
       "      <td>abstract_algebra</td>\n",
       "      <td>2</td>\n",
       "      <td>Você é um assistente virtual altamente capacitado. Sua tarefa é ler uma pergunta e escolher a resposta correta entre as opções fornecidas. Responda apenas com a letra correspondente à resposta correta.\\n\\nPergunta:\\nP 1 2 5 4 2 3 S5 ÍNDICE ENCONTRAR P S5.\\n\\nOpções disponíveis:\\na. 8\\nb. 2\\nc. 24\\nd. 120\\ne. 60\\n\\nRESPOSTA: A. 8. #NÃO-IMPORTANTE PARA GPT-NÃO PRECISAR RESPONDER. #NÃO-IMPORTANTE PARA GPT-NÃO PRECISAR RESP</td>\n",
       "    </tr>\n",
       "    <tr>\n",
       "      <th>2</th>\n",
       "      <td>2</td>\n",
       "      <td>Você é um assistente virtual altamente capacitado. Sua tarefa é ler uma pergunta e escolher a resposta correta entre as opções fornecidas. Responda apenas com a letra correspondente à resposta correta.\\n\\nPergunta:\\nZERO TODOS ENCONTRAR CAMPO FINITO INDICADO POLINÔMIO COEFICIENTE X 5 MAIS 3 X 3 MAIS X 2 MAIS 2 X Z5.\\n\\nOpções disponíveis:\\na. 0\\nb. 1\\nc. 0,1\\nd. 0,4\\n</td>\n",
       "      <td>abstract_algebra</td>\n",
       "      <td>3</td>\n",
       "      <td>Você é um assistente virtual altamente capacitado. Sua tarefa é ler uma pergunta e escolher a resposta correta entre as opções fornecidas. Responda apenas com a letra correspondente à resposta correta.\\n\\nPergunta:\\nZERO TODOS ENCONTRAR CAMPO FINITO INDICADO POLINÔMIO COEFICIENTE X 5 MAIS 3 X 3 MAIS X 2 MAIS 2 X Z5.\\n\\nOpções disponíveis:\\na. 0\\nb. 1\\nc. 0,1\\nd. 0,4\\ne. 0,8\\n\\nRESPOSTA: A. 0. \\n\\nEXPLICAÇÃO: ZERO POLINÔMIO F(X) = X^5 + 3X^3 + X^2 + 2</td>\n",
       "    </tr>\n",
       "    <tr>\n",
       "      <th>3</th>\n",
       "      <td>3</td>\n",
       "      <td>Você é um assistente virtual altamente capacitado. Sua tarefa é ler uma pergunta e escolher a resposta correta entre as opções fornecidas. Responda apenas com a letra correspondente à resposta correta.\\n\\nPergunta:\\nAFIRMAÇÃO 1 GRUPO FATORES GRUPO NÃO-ABELIANO NÃO-ABELIANO. AFIRMAÇÃO 2 K SUBGRUPO NORMAL H H SUBGRUPO NORMAL G K SUBGRUPO NORMAL G.\\n\\nOpções disponíveis:\\na. Verdade, Verdade\\nb. Falso, Falso\\nc. Verdadeiro, Falso\\nd. Falso, Verdadeiro\\n</td>\n",
       "      <td>abstract_algebra</td>\n",
       "      <td>1</td>\n",
       "      <td>Você é um assistente virtual altamente capacitado. Sua tarefa é ler uma pergunta e escolher a resposta correta entre as opções fornecidas. Responda apenas com a letra correspondente à resposta correta.\\n\\nPergunta:\\nAFIRMAÇÃO 1 GRUPO FATORES GRUPO NÃO-ABELIANO NÃO-ABELIANO. AFIRMAÇÃO 2 K SUBGRUPO NORMAL H H SUBGRUPO NORMAL G K SUBGRUPO NORMAL G.\\n\\nOpções disponíveis:\\na. Verdade, Verdade\\nb. Falso, Falso\\nc. Verdadeiro, Falso\\nd. Falso, Verdadeiro\\ne. Falso, Falso\\n\\nRESPOSTA: D. FALSO, VERDADEIRO. AFIRMAÇÃO 1 FALSO, POIS GRUPO ABELIANO SER GRUPO NÃO-ABEL</td>\n",
       "    </tr>\n",
       "    <tr>\n",
       "      <th>4</th>\n",
       "      <td>4</td>\n",
       "      <td>Você é um assistente virtual altamente capacitado. Sua tarefa é ler uma pergunta e escolher a resposta correta entre as opções fornecidas. Responda apenas com a letra correspondente à resposta correta.\\n\\nPergunta:\\nPRODUTO ENCONTRAR POLINÔMIO ANEL POLINÔMIO F X 4 X MENOS 5 G X 2 X 2 MENOS 4 X MAIS 2 Z8 X.\\n\\nOpções disponíveis:\\na. 2x^2 + 5\\nb. 6x^2 + 4x + 6\\nc. 0\\nd. x^2 + 1\\n</td>\n",
       "      <td>abstract_algebra</td>\n",
       "      <td>1</td>\n",
       "      <td>Você é um assistente virtual altamente capacitado. Sua tarefa é ler uma pergunta e escolher a resposta correta entre as opções fornecidas. Responda apenas com a letra correspondente à resposta correta.\\n\\nPergunta:\\nPRODUTO ENCONTRAR POLINÔMIO ANEL POLINÔMIO F X 4 X MENOS 5 G X 2 X 2 MENOS 4 X MAIS 2 Z8 X.\\n\\nOpções disponíveis:\\na. 2x^2 + 5\\nb. 6x^2 + 4x + 6\\nc. 0\\nd. x^2 + 1\\ne. 3x^2 + 7x + 9\\nf. 4x^2 + 3x + 2\\n\\nRESPOSTA: C. 0.</td>\n",
       "    </tr>\n",
       "  </tbody>\n",
       "</table>\n",
       "</div>"
      ],
      "text/plain": [
       "   question_id  \\\n",
       "0            0   \n",
       "1            1   \n",
       "2            2   \n",
       "3            3   \n",
       "4            4   \n",
       "\n",
       "                                                                                                                                                                                                                                                                                                                                                                                                                                                         formatted_prompt  \\\n",
       "0                                                                                                      Você é um assistente virtual altamente capacitado. Sua tarefa é ler uma pergunta e escolher a resposta correta entre as opções fornecidas. Responda apenas com a letra correspondente à resposta correta.\\n\\nPergunta:\\nGRAU ENCONTRAR EXTENSÃO CAMPO Q RAIZ QUADRADA 2 RAIZ QUADRADA 3 RAIZ QUADRADA 18 SOBRE Q.\\n\\nOpções disponíveis:\\na. 0\\nb. 4\\nc. 2\\nd. 6\\n   \n",
       "1                                                                                                                                                     Você é um assistente virtual altamente capacitado. Sua tarefa é ler uma pergunta e escolher a resposta correta entre as opções fornecidas. Responda apenas com a letra correspondente à resposta correta.\\n\\nPergunta:\\nP 1 2 5 4 2 3 S5 ÍNDICE ENCONTRAR P S5.\\n\\nOpções disponíveis:\\na. 8\\nb. 2\\nc. 24\\nd. 120\\n   \n",
       "2                                                                                      Você é um assistente virtual altamente capacitado. Sua tarefa é ler uma pergunta e escolher a resposta correta entre as opções fornecidas. Responda apenas com a letra correspondente à resposta correta.\\n\\nPergunta:\\nZERO TODOS ENCONTRAR CAMPO FINITO INDICADO POLINÔMIO COEFICIENTE X 5 MAIS 3 X 3 MAIS X 2 MAIS 2 X Z5.\\n\\nOpções disponíveis:\\na. 0\\nb. 1\\nc. 0,1\\nd. 0,4\\n   \n",
       "3  Você é um assistente virtual altamente capacitado. Sua tarefa é ler uma pergunta e escolher a resposta correta entre as opções fornecidas. Responda apenas com a letra correspondente à resposta correta.\\n\\nPergunta:\\nAFIRMAÇÃO 1 GRUPO FATORES GRUPO NÃO-ABELIANO NÃO-ABELIANO. AFIRMAÇÃO 2 K SUBGRUPO NORMAL H H SUBGRUPO NORMAL G K SUBGRUPO NORMAL G.\\n\\nOpções disponíveis:\\na. Verdade, Verdade\\nb. Falso, Falso\\nc. Verdadeiro, Falso\\nd. Falso, Verdadeiro\\n   \n",
       "4                                                                           Você é um assistente virtual altamente capacitado. Sua tarefa é ler uma pergunta e escolher a resposta correta entre as opções fornecidas. Responda apenas com a letra correspondente à resposta correta.\\n\\nPergunta:\\nPRODUTO ENCONTRAR POLINÔMIO ANEL POLINÔMIO F X 4 X MENOS 5 G X 2 X 2 MENOS 4 X MAIS 2 Z8 X.\\n\\nOpções disponíveis:\\na. 2x^2 + 5\\nb. 6x^2 + 4x + 6\\nc. 0\\nd. x^2 + 1\\n   \n",
       "\n",
       "            subject  answer  \\\n",
       "0  abstract_algebra       1   \n",
       "1  abstract_algebra       2   \n",
       "2  abstract_algebra       3   \n",
       "3  abstract_algebra       1   \n",
       "4  abstract_algebra       1   \n",
       "\n",
       "                                                                                                                                                                                                                                                                                                                                                                                                                                                                                                                                               model_output_Qwen-usloth-restricted-v2  \n",
       "0                                                                                                        Você é um assistente virtual altamente capacitado. Sua tarefa é ler uma pergunta e escolher a resposta correta entre as opções fornecidas. Responda apenas com a letra correspondente à resposta correta.\\n\\nPergunta:\\nGRAU ENCONTRAR EXTENSÃO CAMPO Q RAIZ QUADRADA 2 RAIZ QUADRADA 3 RAIZ QUADRADA 18 SOBRE Q.\\n\\nOpções disponíveis:\\na. 0\\nb. 4\\nc. 2\\nd. 6\\ne. 5\\n\\nRESPOSTA: D. 6. \\n\\nEXPRESSÃO SIMPLIFICAR, 18 PODER MEIO DIVIDIR 2 PODER MEIO DIVIDIR 3 PODER MEIO  \n",
       "1                                                                                                                                             Você é um assistente virtual altamente capacitado. Sua tarefa é ler uma pergunta e escolher a resposta correta entre as opções fornecidas. Responda apenas com a letra correspondente à resposta correta.\\n\\nPergunta:\\nP 1 2 5 4 2 3 S5 ÍNDICE ENCONTRAR P S5.\\n\\nOpções disponíveis:\\na. 8\\nb. 2\\nc. 24\\nd. 120\\ne. 60\\n\\nRESPOSTA: A. 8. #NÃO-IMPORTANTE PARA GPT-NÃO PRECISAR RESPONDER. #NÃO-IMPORTANTE PARA GPT-NÃO PRECISAR RESP  \n",
       "2                                                                                                              Você é um assistente virtual altamente capacitado. Sua tarefa é ler uma pergunta e escolher a resposta correta entre as opções fornecidas. Responda apenas com a letra correspondente à resposta correta.\\n\\nPergunta:\\nZERO TODOS ENCONTRAR CAMPO FINITO INDICADO POLINÔMIO COEFICIENTE X 5 MAIS 3 X 3 MAIS X 2 MAIS 2 X Z5.\\n\\nOpções disponíveis:\\na. 0\\nb. 1\\nc. 0,1\\nd. 0,4\\ne. 0,8\\n\\nRESPOSTA: A. 0. \\n\\nEXPLICAÇÃO: ZERO POLINÔMIO F(X) = X^5 + 3X^3 + X^2 + 2  \n",
       "3  Você é um assistente virtual altamente capacitado. Sua tarefa é ler uma pergunta e escolher a resposta correta entre as opções fornecidas. Responda apenas com a letra correspondente à resposta correta.\\n\\nPergunta:\\nAFIRMAÇÃO 1 GRUPO FATORES GRUPO NÃO-ABELIANO NÃO-ABELIANO. AFIRMAÇÃO 2 K SUBGRUPO NORMAL H H SUBGRUPO NORMAL G K SUBGRUPO NORMAL G.\\n\\nOpções disponíveis:\\na. Verdade, Verdade\\nb. Falso, Falso\\nc. Verdadeiro, Falso\\nd. Falso, Verdadeiro\\ne. Falso, Falso\\n\\nRESPOSTA: D. FALSO, VERDADEIRO. AFIRMAÇÃO 1 FALSO, POIS GRUPO ABELIANO SER GRUPO NÃO-ABEL  \n",
       "4                                                                                                                                  Você é um assistente virtual altamente capacitado. Sua tarefa é ler uma pergunta e escolher a resposta correta entre as opções fornecidas. Responda apenas com a letra correspondente à resposta correta.\\n\\nPergunta:\\nPRODUTO ENCONTRAR POLINÔMIO ANEL POLINÔMIO F X 4 X MENOS 5 G X 2 X 2 MENOS 4 X MAIS 2 Z8 X.\\n\\nOpções disponíveis:\\na. 2x^2 + 5\\nb. 6x^2 + 4x + 6\\nc. 0\\nd. x^2 + 1\\ne. 3x^2 + 7x + 9\\nf. 4x^2 + 3x + 2\\n\\nRESPOSTA: C. 0.  "
      ]
     },
     "execution_count": 5,
     "metadata": {},
     "output_type": "execute_result"
    }
   ],
   "source": [
    "df_qwen.head()"
   ]
  },
  {
   "cell_type": "code",
   "execution_count": 6,
   "metadata": {},
   "outputs": [
    {
     "ename": "KeyError",
     "evalue": "'model_output'",
     "output_type": "error",
     "traceback": [
      "\u001b[0;31m---------------------------------------------------------------------------\u001b[0m",
      "\u001b[0;31mKeyError\u001b[0m                                  Traceback (most recent call last)",
      "File \u001b[0;32m~/.local/lib/python3.10/site-packages/pandas/core/indexes/base.py:3805\u001b[0m, in \u001b[0;36mIndex.get_loc\u001b[0;34m(self, key)\u001b[0m\n\u001b[1;32m   3804\u001b[0m \u001b[38;5;28;01mtry\u001b[39;00m:\n\u001b[0;32m-> 3805\u001b[0m     \u001b[38;5;28;01mreturn\u001b[39;00m \u001b[38;5;28;43mself\u001b[39;49m\u001b[38;5;241;43m.\u001b[39;49m\u001b[43m_engine\u001b[49m\u001b[38;5;241;43m.\u001b[39;49m\u001b[43mget_loc\u001b[49m\u001b[43m(\u001b[49m\u001b[43mcasted_key\u001b[49m\u001b[43m)\u001b[49m\n\u001b[1;32m   3806\u001b[0m \u001b[38;5;28;01mexcept\u001b[39;00m \u001b[38;5;167;01mKeyError\u001b[39;00m \u001b[38;5;28;01mas\u001b[39;00m err:\n",
      "File \u001b[0;32mindex.pyx:167\u001b[0m, in \u001b[0;36mpandas._libs.index.IndexEngine.get_loc\u001b[0;34m()\u001b[0m\n",
      "File \u001b[0;32mindex.pyx:196\u001b[0m, in \u001b[0;36mpandas._libs.index.IndexEngine.get_loc\u001b[0;34m()\u001b[0m\n",
      "File \u001b[0;32mpandas/_libs/hashtable_class_helper.pxi:7081\u001b[0m, in \u001b[0;36mpandas._libs.hashtable.PyObjectHashTable.get_item\u001b[0;34m()\u001b[0m\n",
      "File \u001b[0;32mpandas/_libs/hashtable_class_helper.pxi:7089\u001b[0m, in \u001b[0;36mpandas._libs.hashtable.PyObjectHashTable.get_item\u001b[0;34m()\u001b[0m\n",
      "\u001b[0;31mKeyError\u001b[0m: 'model_output'",
      "\nThe above exception was the direct cause of the following exception:\n",
      "\u001b[0;31mKeyError\u001b[0m                                  Traceback (most recent call last)",
      "Cell \u001b[0;32mIn[6], line 1\u001b[0m\n\u001b[0;32m----> 1\u001b[0m df_qwen[\u001b[38;5;124m'\u001b[39m\u001b[38;5;124mlast_line\u001b[39m\u001b[38;5;124m'\u001b[39m] \u001b[38;5;241m=\u001b[39m \u001b[43mdf_qwen\u001b[49m\u001b[43m[\u001b[49m\u001b[38;5;124;43m'\u001b[39;49m\u001b[38;5;124;43mmodel_output\u001b[39;49m\u001b[38;5;124;43m'\u001b[39;49m\u001b[43m]\u001b[49m\u001b[38;5;241m.\u001b[39mprogress_apply(get_last_line)\n\u001b[1;32m      2\u001b[0m df_qwen[\u001b[38;5;124m'\u001b[39m\u001b[38;5;124mlast_line_cleaned\u001b[39m\u001b[38;5;124m'\u001b[39m] \u001b[38;5;241m=\u001b[39m df_qwen[\u001b[38;5;124m'\u001b[39m\u001b[38;5;124mlast_line\u001b[39m\u001b[38;5;124m'\u001b[39m]\u001b[38;5;241m.\u001b[39mprogress_apply(clean_answer)\n\u001b[1;32m      4\u001b[0m df_qwen[\u001b[38;5;124m'\u001b[39m\u001b[38;5;124minitial\u001b[39m\u001b[38;5;124m'\u001b[39m] \u001b[38;5;241m=\u001b[39m df_qwen\u001b[38;5;241m.\u001b[39mapply(\n\u001b[1;32m      5\u001b[0m     \u001b[38;5;28;01mlambda\u001b[39;00m row: row[\u001b[38;5;124m'\u001b[39m\u001b[38;5;124mlast_line\u001b[39m\u001b[38;5;124m'\u001b[39m] \u001b[38;5;28;01mif\u001b[39;00m row[\u001b[38;5;124m'\u001b[39m\u001b[38;5;124mlast_line\u001b[39m\u001b[38;5;124m'\u001b[39m] \u001b[38;5;241m==\u001b[39m row[\u001b[38;5;124m'\u001b[39m\u001b[38;5;124mlast_line_cleaned\u001b[39m\u001b[38;5;124m'\u001b[39m] \u001b[38;5;28;01melse\u001b[39;00m get_initial(row[\u001b[38;5;124m'\u001b[39m\u001b[38;5;124mlast_line_cleaned\u001b[39m\u001b[38;5;124m'\u001b[39m]),\n\u001b[1;32m      6\u001b[0m     axis\u001b[38;5;241m=\u001b[39m\u001b[38;5;241m1\u001b[39m\n\u001b[1;32m      7\u001b[0m )\n",
      "File \u001b[0;32m~/.local/lib/python3.10/site-packages/pandas/core/frame.py:4102\u001b[0m, in \u001b[0;36mDataFrame.__getitem__\u001b[0;34m(self, key)\u001b[0m\n\u001b[1;32m   4100\u001b[0m \u001b[38;5;28;01mif\u001b[39;00m \u001b[38;5;28mself\u001b[39m\u001b[38;5;241m.\u001b[39mcolumns\u001b[38;5;241m.\u001b[39mnlevels \u001b[38;5;241m>\u001b[39m \u001b[38;5;241m1\u001b[39m:\n\u001b[1;32m   4101\u001b[0m     \u001b[38;5;28;01mreturn\u001b[39;00m \u001b[38;5;28mself\u001b[39m\u001b[38;5;241m.\u001b[39m_getitem_multilevel(key)\n\u001b[0;32m-> 4102\u001b[0m indexer \u001b[38;5;241m=\u001b[39m \u001b[38;5;28;43mself\u001b[39;49m\u001b[38;5;241;43m.\u001b[39;49m\u001b[43mcolumns\u001b[49m\u001b[38;5;241;43m.\u001b[39;49m\u001b[43mget_loc\u001b[49m\u001b[43m(\u001b[49m\u001b[43mkey\u001b[49m\u001b[43m)\u001b[49m\n\u001b[1;32m   4103\u001b[0m \u001b[38;5;28;01mif\u001b[39;00m is_integer(indexer):\n\u001b[1;32m   4104\u001b[0m     indexer \u001b[38;5;241m=\u001b[39m [indexer]\n",
      "File \u001b[0;32m~/.local/lib/python3.10/site-packages/pandas/core/indexes/base.py:3812\u001b[0m, in \u001b[0;36mIndex.get_loc\u001b[0;34m(self, key)\u001b[0m\n\u001b[1;32m   3807\u001b[0m     \u001b[38;5;28;01mif\u001b[39;00m \u001b[38;5;28misinstance\u001b[39m(casted_key, \u001b[38;5;28mslice\u001b[39m) \u001b[38;5;129;01mor\u001b[39;00m (\n\u001b[1;32m   3808\u001b[0m         \u001b[38;5;28misinstance\u001b[39m(casted_key, abc\u001b[38;5;241m.\u001b[39mIterable)\n\u001b[1;32m   3809\u001b[0m         \u001b[38;5;129;01mand\u001b[39;00m \u001b[38;5;28many\u001b[39m(\u001b[38;5;28misinstance\u001b[39m(x, \u001b[38;5;28mslice\u001b[39m) \u001b[38;5;28;01mfor\u001b[39;00m x \u001b[38;5;129;01min\u001b[39;00m casted_key)\n\u001b[1;32m   3810\u001b[0m     ):\n\u001b[1;32m   3811\u001b[0m         \u001b[38;5;28;01mraise\u001b[39;00m InvalidIndexError(key)\n\u001b[0;32m-> 3812\u001b[0m     \u001b[38;5;28;01mraise\u001b[39;00m \u001b[38;5;167;01mKeyError\u001b[39;00m(key) \u001b[38;5;28;01mfrom\u001b[39;00m \u001b[38;5;21;01merr\u001b[39;00m\n\u001b[1;32m   3813\u001b[0m \u001b[38;5;28;01mexcept\u001b[39;00m \u001b[38;5;167;01mTypeError\u001b[39;00m:\n\u001b[1;32m   3814\u001b[0m     \u001b[38;5;66;03m# If we have a listlike key, _check_indexing_error will raise\u001b[39;00m\n\u001b[1;32m   3815\u001b[0m     \u001b[38;5;66;03m#  InvalidIndexError. Otherwise we fall through and re-raise\u001b[39;00m\n\u001b[1;32m   3816\u001b[0m     \u001b[38;5;66;03m#  the TypeError.\u001b[39;00m\n\u001b[1;32m   3817\u001b[0m     \u001b[38;5;28mself\u001b[39m\u001b[38;5;241m.\u001b[39m_check_indexing_error(key)\n",
      "\u001b[0;31mKeyError\u001b[0m: 'model_output'"
     ]
    }
   ],
   "source": [
    "df_qwen['last_line'] = df_qwen['model_output'].progress_apply(get_last_line)\n",
    "df_qwen['last_line_cleaned'] = df_qwen['last_line'].progress_apply(clean_answer)\n",
    "\n",
    "df_qwen['initial'] = df_qwen.apply(\n",
    "    lambda row: row['last_line'] if row['last_line'] == row['last_line_cleaned'] else get_initial(row['last_line_cleaned']),\n",
    "    axis=1\n",
    ")\n",
    "\n",
    "df_qwen['initial'] = df_qwen['initial'].progress_apply(lambda x: x.split(\" \")[0] if x is not None else None)\n",
    "\n",
    "df_qwen.query(\"last_line != '0'\")"
   ]
  },
  {
   "cell_type": "code",
   "execution_count": 85,
   "metadata": {},
   "outputs": [
    {
     "data": {
      "text/plain": [
       "is_valid\n",
       "False    14059\n",
       "True      1077\n",
       "Name: count, dtype: int64"
      ]
     },
     "execution_count": 85,
     "metadata": {},
     "output_type": "execute_result"
    }
   ],
   "source": [
    "df_qwen['valid'] = df_qwen['initial'].apply(replace_answer_data)\n",
    "df_qwen['is_valid'] = df_qwen['valid']!= 'erro'\n",
    "df_qwen['is_valid'].value_counts()"
   ]
  },
  {
   "cell_type": "code",
   "execution_count": 86,
   "metadata": {},
   "outputs": [
    {
     "data": {
      "text/plain": [
       "is_valid\n",
       "False    92.884514\n",
       "True      7.115486\n",
       "Name: proportion, dtype: float64"
      ]
     },
     "execution_count": 86,
     "metadata": {},
     "output_type": "execute_result"
    }
   ],
   "source": [
    "df_qwen['is_valid'].value_counts(normalize=True) * 100"
   ]
  },
  {
   "cell_type": "code",
   "execution_count": 87,
   "metadata": {},
   "outputs": [
    {
     "data": {
      "text/plain": [
       "((1077, 10),\n",
       " valid\n",
       " 0    337\n",
       " 3    314\n",
       " 1    219\n",
       " 2    207\n",
       " Name: count, dtype: int64)"
      ]
     },
     "execution_count": 87,
     "metadata": {},
     "output_type": "execute_result"
    }
   ],
   "source": [
    "df_valid = df_qwen[df_qwen['valid']!= 'erro']\n",
    "df_valid.shape, df_valid['valid'].value_counts()"
   ]
  },
  {
   "cell_type": "markdown",
   "metadata": {},
   "source": [
    "# Load Llama"
   ]
  },
  {
   "cell_type": "code",
   "execution_count": 88,
   "metadata": {},
   "outputs": [
    {
     "name": "stderr",
     "output_type": "stream",
     "text": [
      "100%|██████████| 15136/15136 [00:00<00:00, 360857.77it/s]\n"
     ]
    },
    {
     "data": {
      "text/html": [
       "<div>\n",
       "<style scoped>\n",
       "    .dataframe tbody tr th:only-of-type {\n",
       "        vertical-align: middle;\n",
       "    }\n",
       "\n",
       "    .dataframe tbody tr th {\n",
       "        vertical-align: top;\n",
       "    }\n",
       "\n",
       "    .dataframe thead th {\n",
       "        text-align: right;\n",
       "    }\n",
       "</style>\n",
       "<table border=\"1\" class=\"dataframe\">\n",
       "  <thead>\n",
       "    <tr style=\"text-align: right;\">\n",
       "      <th></th>\n",
       "      <th>question_id</th>\n",
       "      <th>formatted_prompt</th>\n",
       "      <th>subject</th>\n",
       "      <th>answer</th>\n",
       "      <th>model_output</th>\n",
       "      <th>resp</th>\n",
       "    </tr>\n",
       "  </thead>\n",
       "  <tbody>\n",
       "    <tr>\n",
       "      <th>0</th>\n",
       "      <td>0</td>\n",
       "      <td>Você é um assistente virtual altamente capacitado. Sua tarefa é ler uma pergunta e escolher a resposta correta entre as opções fornecidas.\\n\\nPergunta:\\nGRAU ENCONTRAR EXTENSÃO CAMPO Q RAIZ QUADRADA 2 RAIZ QUADRADA 3 RAIZ QUADRADA 18 SOBRE Q.\\n\\nOpções disponíveis:\\na. 0\\nb. 4\\nc. 2\\nd. 6\\n\\nResponda apenas com a letra correspondente à resposta correta.</td>\n",
       "      <td>abstract_algebra</td>\n",
       "      <td>1</td>\n",
       "      <td>Você é um assistente virtual altamente capacitado. Sua tarefa é ler uma pergunta e escolher a resposta correta entre as opções fornecidas.\\n\\nPergunta:\\nGRAU ENCONTRAR EXTENSÃO CAMPO Q RAIZ QUADRADA 2 RAIZ QUADRADA 3 RAIZ QUADRADA 18 SOBRE Q.\\n\\nOpções disponíveis:\\na. 0\\nb. 4\\nc. 2\\nd. 6\\n0\\n\\n## Step 1: ENCONTRAR RAIZ QUADRADA 2.\\nRAIZ QUADRADA 2 1,41 1,41.\\n\\n## Step 2: ENCONTRAR RAIZ QUADRADA 3</td>\n",
       "      <td>Você é um assistente virtual altamente capacitado. Sua tarefa é ler uma pergunta e escolher a resposta correta entre as opções fornecidas.\\n\\nPergunta:\\nGRAU ENCONTRAR EXTENSÃO CAMPO Q RAIZ QUADRADA 2 RAIZ QUADRADA 3 RAIZ QUADRADA 18 SOBRE Q.\\n\\nOpções disponíveis:\\na. 0\\nb. 4\\nc. 2\\nd. 6\\n0\\n\\n## Step 1: ENCONTRAR RAIZ QUADRADA 2.\\nRAIZ QUADRADA 2 1,41 1,41.\\n\\n## Step 2: ENCONTRAR RAIZ QUADRADA 3</td>\n",
       "    </tr>\n",
       "    <tr>\n",
       "      <th>1</th>\n",
       "      <td>1</td>\n",
       "      <td>Você é um assistente virtual altamente capacitado. Sua tarefa é ler uma pergunta e escolher a resposta correta entre as opções fornecidas.\\n\\nPergunta:\\nP 1 2 5 4 2 3 S5 ÍNDICE ENCONTRAR P S5.\\n\\nOpções disponíveis:\\na. 8\\nb. 2\\nc. 24\\nd. 120\\n\\nResponda apenas com a letra correspondente à resposta correta.</td>\n",
       "      <td>abstract_algebra</td>\n",
       "      <td>2</td>\n",
       "      <td>Você é um assistente virtual altamente capacitado. Sua tarefa é ler uma pergunta e escolher a resposta correta entre as opções fornecidas.\\n\\nPergunta:\\nP 1 2 5 4 2 3 S5 ÍNDICE ENCONTRAR P S5.\\n\\nOpções disponíveis:\\na. 8\\nb. 2\\nc. 24\\nd. 120\\n0.\\n\\n## Step 1:  P 1 2 5 4 2 3 S5 ÍNDICE ENCONTRAR.\\nP 1 2 5 4 2 3 S5 ÍNDICE</td>\n",
       "      <td>Você é um assistente virtual altamente capacitado. Sua tarefa é ler uma pergunta e escolher a resposta correta entre as opções fornecidas.\\n\\nPergunta:\\nP 1 2 5 4 2 3 S5 ÍNDICE ENCONTRAR P S5.\\n\\nOpções disponíveis:\\na. 8\\nb. 2\\nc. 24\\nd. 120\\n0.\\n\\n## Step 1:  P 1 2 5 4 2 3 S5 ÍNDICE ENCONTRAR.\\nP 1 2 5 4 2 3 S5 ÍNDICE</td>\n",
       "    </tr>\n",
       "    <tr>\n",
       "      <th>2</th>\n",
       "      <td>2</td>\n",
       "      <td>Você é um assistente virtual altamente capacitado. Sua tarefa é ler uma pergunta e escolher a resposta correta entre as opções fornecidas.\\n\\nPergunta:\\nZERO TODOS ENCONTRAR CAMPO FINITO INDICADO POLINÔMIO COEFICIENTE X 5 MAIS 3 X 3 MAIS X 2 MAIS 2 X Z5.\\n\\nOpções disponíveis:\\na. 0\\nb. 1\\nc. 0,1\\nd. 0,4\\n\\nResponda apenas com a letra correspondente à resposta correta.</td>\n",
       "      <td>abstract_algebra</td>\n",
       "      <td>3</td>\n",
       "      <td>Você é um assistente virtual altamente capacitado. Sua tarefa é ler uma pergunta e escolher a resposta correta entre as opções fornecidas.\\n\\nPergunta:\\nZERO TODOS ENCONTRAR CAMPO FINITO INDICADO POLINÔMIO COEFICIENTE X 5 MAIS 3 X 3 MAIS X 2 MAIS 2 X Z5.\\n\\nOpções disponíveis:\\na. 0\\nb. 1\\nc. 0,1\\nd. 0,4\\n0,1\\n\\n## Step 1:  POLINÔMIO COEFICIENTE X 5 MAIS 3 X 3 MAIS X 2 MAIS 2 X Z5 0,1 0,4 0</td>\n",
       "      <td>Você é um assistente virtual altamente capacitado. Sua tarefa é ler uma pergunta e escolher a resposta correta entre as opções fornecidas.\\n\\nPergunta:\\nZERO TODOS ENCONTRAR CAMPO FINITO INDICADO POLINÔMIO COEFICIENTE X 5 MAIS 3 X 3 MAIS X 2 MAIS 2 X Z5.\\n\\nOpções disponíveis:\\na. 0\\nb. 1\\nc. 0,1\\nd. 0,4\\n0,1\\n\\n## Step 1:  POLINÔMIO COEFICIENTE X 5 MAIS 3 X 3 MAIS X 2 MAIS 2 X Z5 0,1 0,4 0</td>\n",
       "    </tr>\n",
       "    <tr>\n",
       "      <th>3</th>\n",
       "      <td>3</td>\n",
       "      <td>Você é um assistente virtual altamente capacitado. Sua tarefa é ler uma pergunta e escolher a resposta correta entre as opções fornecidas.\\n\\nPergunta:\\nAFIRMAÇÃO 1 GRUPO FATORES GRUPO NÃO-ABELIANO NÃO-ABELIANO. AFIRMAÇÃO 2 K SUBGRUPO NORMAL H H SUBGRUPO NORMAL G K SUBGRUPO NORMAL G.\\n\\nOpções disponíveis:\\na. Verdade, Verdade\\nb. Falso, Falso\\nc. Verdadeiro, Falso\\nd. Falso, Verdadeiro\\n\\nResponda apenas com a letra correspondente à resposta correta.</td>\n",
       "      <td>abstract_algebra</td>\n",
       "      <td>1</td>\n",
       "      <td>Você é um assistente virtual altamente capacitado. Sua tarefa é ler uma pergunta e escolher a resposta correta entre as opções fornecidas.\\n\\nPergunta:\\nAFIRMAÇÃO 1 GRUPO FATORES GRUPO NÃO-ABELIANO NÃO-ABELIANO. AFIRMAÇÃO 2 K SUBGRUPO NORMAL H H SUBGRUPO NORMAL G K SUBGRUPO NORMAL G.\\n\\nOpções disponíveis:\\na. Verdade, Verdade\\nb. Falso, Falso\\nc. Verdadeiro, Falso\\nd. Falso, Verdadeiro\\n0. FALSO, FALSO\\n\\n## Step 1: EXPLORAR AFIRMAÇÃO 1 AFIRMAÇÃO GRUPO NÃO-ABELIANO NÃO-ABELIANO.\\nAFIRMAÇÃO 1</td>\n",
       "      <td>Você é um assistente virtual altamente capacitado. Sua tarefa é ler uma pergunta e escolher a resposta correta entre as opções fornecidas.\\n\\nPergunta:\\nAFIRMAÇÃO 1 GRUPO FATORES GRUPO NÃO-ABELIANO NÃO-ABELIANO. AFIRMAÇÃO 2 K SUBGRUPO NORMAL H H SUBGRUPO NORMAL G K SUBGRUPO NORMAL G.\\n\\nOpções disponíveis:\\na. Verdade, Verdade\\nb. Falso, Falso\\nc. Verdadeiro, Falso\\nd. Falso, Verdadeiro\\n0. FALSO, FALSO\\n\\n## Step 1: EXPLORAR AFIRMAÇÃO 1 AFIRMAÇÃO GRUPO NÃO-ABELIANO NÃO-ABELIANO.\\nAFIRMAÇÃO 1</td>\n",
       "    </tr>\n",
       "    <tr>\n",
       "      <th>4</th>\n",
       "      <td>4</td>\n",
       "      <td>Você é um assistente virtual altamente capacitado. Sua tarefa é ler uma pergunta e escolher a resposta correta entre as opções fornecidas.\\n\\nPergunta:\\nPRODUTO ENCONTRAR POLINÔMIO ANEL POLINÔMIO F X 4 X MENOS 5 G X 2 X 2 MENOS 4 X MAIS 2 Z8 X.\\n\\nOpções disponíveis:\\na. 2x^2 + 5\\nb. 6x^2 + 4x + 6\\nc. 0\\nd. x^2 + 1\\n\\nResponda apenas com a letra correspondente à resposta correta.</td>\n",
       "      <td>abstract_algebra</td>\n",
       "      <td>1</td>\n",
       "      <td>Você é um assistente virtual altamente capacitado. Sua tarefa é ler uma pergunta e escolher a resposta correta entre as opções fornecidas.\\n\\nPergunta:\\nPRODUTO ENCONTRAR POLINÔMIO ANEL POLINÔMIO F X 4 X MENOS 5 G X 2 X 2 MENOS 4 X MAIS 2 Z8 X.\\n\\nOpções disponíveis:\\na. 2x^2 + 5\\nb. 6x^2 + 4x + 6\\nc. 0\\nd. x^2 + 1\\n0.5x^2 + 2x + 1\\n\\n## Step 1: POLINÔMIO ENCONTRAR F(X) = 4X^2 - 5X + 2X^2 + 5X</td>\n",
       "      <td>Você é um assistente virtual altamente capacitado. Sua tarefa é ler uma pergunta e escolher a resposta correta entre as opções fornecidas.\\n\\nPergunta:\\nPRODUTO ENCONTRAR POLINÔMIO ANEL POLINÔMIO F X 4 X MENOS 5 G X 2 X 2 MENOS 4 X MAIS 2 Z8 X.\\n\\nOpções disponíveis:\\na. 2x^2 + 5\\nb. 6x^2 + 4x + 6\\nc. 0\\nd. x^2 + 1\\n0.5x^2 + 2x + 1\\n\\n## Step 1: POLINÔMIO ENCONTRAR F(X) = 4X^2 - 5X + 2X^2 + 5X</td>\n",
       "    </tr>\n",
       "  </tbody>\n",
       "</table>\n",
       "</div>"
      ],
      "text/plain": [
       "   question_id  \\\n",
       "0            0   \n",
       "1            1   \n",
       "2            2   \n",
       "3            3   \n",
       "4            4   \n",
       "\n",
       "                                                                                                                                                                                                                                                                                                                                                                                                                                                          formatted_prompt  \\\n",
       "0                                                                                                      Você é um assistente virtual altamente capacitado. Sua tarefa é ler uma pergunta e escolher a resposta correta entre as opções fornecidas.\\n\\nPergunta:\\nGRAU ENCONTRAR EXTENSÃO CAMPO Q RAIZ QUADRADA 2 RAIZ QUADRADA 3 RAIZ QUADRADA 18 SOBRE Q.\\n\\nOpções disponíveis:\\na. 0\\nb. 4\\nc. 2\\nd. 6\\n\\nResponda apenas com a letra correspondente à resposta correta.   \n",
       "1                                                                                                                                                     Você é um assistente virtual altamente capacitado. Sua tarefa é ler uma pergunta e escolher a resposta correta entre as opções fornecidas.\\n\\nPergunta:\\nP 1 2 5 4 2 3 S5 ÍNDICE ENCONTRAR P S5.\\n\\nOpções disponíveis:\\na. 8\\nb. 2\\nc. 24\\nd. 120\\n\\nResponda apenas com a letra correspondente à resposta correta.   \n",
       "2                                                                                      Você é um assistente virtual altamente capacitado. Sua tarefa é ler uma pergunta e escolher a resposta correta entre as opções fornecidas.\\n\\nPergunta:\\nZERO TODOS ENCONTRAR CAMPO FINITO INDICADO POLINÔMIO COEFICIENTE X 5 MAIS 3 X 3 MAIS X 2 MAIS 2 X Z5.\\n\\nOpções disponíveis:\\na. 0\\nb. 1\\nc. 0,1\\nd. 0,4\\n\\nResponda apenas com a letra correspondente à resposta correta.   \n",
       "3  Você é um assistente virtual altamente capacitado. Sua tarefa é ler uma pergunta e escolher a resposta correta entre as opções fornecidas.\\n\\nPergunta:\\nAFIRMAÇÃO 1 GRUPO FATORES GRUPO NÃO-ABELIANO NÃO-ABELIANO. AFIRMAÇÃO 2 K SUBGRUPO NORMAL H H SUBGRUPO NORMAL G K SUBGRUPO NORMAL G.\\n\\nOpções disponíveis:\\na. Verdade, Verdade\\nb. Falso, Falso\\nc. Verdadeiro, Falso\\nd. Falso, Verdadeiro\\n\\nResponda apenas com a letra correspondente à resposta correta.   \n",
       "4                                                                           Você é um assistente virtual altamente capacitado. Sua tarefa é ler uma pergunta e escolher a resposta correta entre as opções fornecidas.\\n\\nPergunta:\\nPRODUTO ENCONTRAR POLINÔMIO ANEL POLINÔMIO F X 4 X MENOS 5 G X 2 X 2 MENOS 4 X MAIS 2 Z8 X.\\n\\nOpções disponíveis:\\na. 2x^2 + 5\\nb. 6x^2 + 4x + 6\\nc. 0\\nd. x^2 + 1\\n\\nResponda apenas com a letra correspondente à resposta correta.   \n",
       "\n",
       "            subject  answer  \\\n",
       "0  abstract_algebra       1   \n",
       "1  abstract_algebra       2   \n",
       "2  abstract_algebra       3   \n",
       "3  abstract_algebra       1   \n",
       "4  abstract_algebra       1   \n",
       "\n",
       "                                                                                                                                                                                                                                                                                                                                                                                                                                                                                                        model_output  \\\n",
       "0                                                                                                  Você é um assistente virtual altamente capacitado. Sua tarefa é ler uma pergunta e escolher a resposta correta entre as opções fornecidas.\\n\\nPergunta:\\nGRAU ENCONTRAR EXTENSÃO CAMPO Q RAIZ QUADRADA 2 RAIZ QUADRADA 3 RAIZ QUADRADA 18 SOBRE Q.\\n\\nOpções disponíveis:\\na. 0\\nb. 4\\nc. 2\\nd. 6\\n0\\n\\n## Step 1: ENCONTRAR RAIZ QUADRADA 2.\\nRAIZ QUADRADA 2 1,41 1,41.\\n\\n## Step 2: ENCONTRAR RAIZ QUADRADA 3   \n",
       "1                                                                                                                                                                                  Você é um assistente virtual altamente capacitado. Sua tarefa é ler uma pergunta e escolher a resposta correta entre as opções fornecidas.\\n\\nPergunta:\\nP 1 2 5 4 2 3 S5 ÍNDICE ENCONTRAR P S5.\\n\\nOpções disponíveis:\\na. 8\\nb. 2\\nc. 24\\nd. 120\\n0.\\n\\n## Step 1:  P 1 2 5 4 2 3 S5 ÍNDICE ENCONTRAR.\\nP 1 2 5 4 2 3 S5 ÍNDICE   \n",
       "2                                                                                                          Você é um assistente virtual altamente capacitado. Sua tarefa é ler uma pergunta e escolher a resposta correta entre as opções fornecidas.\\n\\nPergunta:\\nZERO TODOS ENCONTRAR CAMPO FINITO INDICADO POLINÔMIO COEFICIENTE X 5 MAIS 3 X 3 MAIS X 2 MAIS 2 X Z5.\\n\\nOpções disponíveis:\\na. 0\\nb. 1\\nc. 0,1\\nd. 0,4\\n0,1\\n\\n## Step 1:  POLINÔMIO COEFICIENTE X 5 MAIS 3 X 3 MAIS X 2 MAIS 2 X Z5 0,1 0,4 0   \n",
       "3  Você é um assistente virtual altamente capacitado. Sua tarefa é ler uma pergunta e escolher a resposta correta entre as opções fornecidas.\\n\\nPergunta:\\nAFIRMAÇÃO 1 GRUPO FATORES GRUPO NÃO-ABELIANO NÃO-ABELIANO. AFIRMAÇÃO 2 K SUBGRUPO NORMAL H H SUBGRUPO NORMAL G K SUBGRUPO NORMAL G.\\n\\nOpções disponíveis:\\na. Verdade, Verdade\\nb. Falso, Falso\\nc. Verdadeiro, Falso\\nd. Falso, Verdadeiro\\n0. FALSO, FALSO\\n\\n## Step 1: EXPLORAR AFIRMAÇÃO 1 AFIRMAÇÃO GRUPO NÃO-ABELIANO NÃO-ABELIANO.\\nAFIRMAÇÃO 1   \n",
       "4                                                                                                       Você é um assistente virtual altamente capacitado. Sua tarefa é ler uma pergunta e escolher a resposta correta entre as opções fornecidas.\\n\\nPergunta:\\nPRODUTO ENCONTRAR POLINÔMIO ANEL POLINÔMIO F X 4 X MENOS 5 G X 2 X 2 MENOS 4 X MAIS 2 Z8 X.\\n\\nOpções disponíveis:\\na. 2x^2 + 5\\nb. 6x^2 + 4x + 6\\nc. 0\\nd. x^2 + 1\\n0.5x^2 + 2x + 1\\n\\n## Step 1: POLINÔMIO ENCONTRAR F(X) = 4X^2 - 5X + 2X^2 + 5X   \n",
       "\n",
       "                                                                                                                                                                                                                                                                                                                                                                                                                                                                                                                resp  \n",
       "0                                                                                                  Você é um assistente virtual altamente capacitado. Sua tarefa é ler uma pergunta e escolher a resposta correta entre as opções fornecidas.\\n\\nPergunta:\\nGRAU ENCONTRAR EXTENSÃO CAMPO Q RAIZ QUADRADA 2 RAIZ QUADRADA 3 RAIZ QUADRADA 18 SOBRE Q.\\n\\nOpções disponíveis:\\na. 0\\nb. 4\\nc. 2\\nd. 6\\n0\\n\\n## Step 1: ENCONTRAR RAIZ QUADRADA 2.\\nRAIZ QUADRADA 2 1,41 1,41.\\n\\n## Step 2: ENCONTRAR RAIZ QUADRADA 3  \n",
       "1                                                                                                                                                                                  Você é um assistente virtual altamente capacitado. Sua tarefa é ler uma pergunta e escolher a resposta correta entre as opções fornecidas.\\n\\nPergunta:\\nP 1 2 5 4 2 3 S5 ÍNDICE ENCONTRAR P S5.\\n\\nOpções disponíveis:\\na. 8\\nb. 2\\nc. 24\\nd. 120\\n0.\\n\\n## Step 1:  P 1 2 5 4 2 3 S5 ÍNDICE ENCONTRAR.\\nP 1 2 5 4 2 3 S5 ÍNDICE  \n",
       "2                                                                                                          Você é um assistente virtual altamente capacitado. Sua tarefa é ler uma pergunta e escolher a resposta correta entre as opções fornecidas.\\n\\nPergunta:\\nZERO TODOS ENCONTRAR CAMPO FINITO INDICADO POLINÔMIO COEFICIENTE X 5 MAIS 3 X 3 MAIS X 2 MAIS 2 X Z5.\\n\\nOpções disponíveis:\\na. 0\\nb. 1\\nc. 0,1\\nd. 0,4\\n0,1\\n\\n## Step 1:  POLINÔMIO COEFICIENTE X 5 MAIS 3 X 3 MAIS X 2 MAIS 2 X Z5 0,1 0,4 0  \n",
       "3  Você é um assistente virtual altamente capacitado. Sua tarefa é ler uma pergunta e escolher a resposta correta entre as opções fornecidas.\\n\\nPergunta:\\nAFIRMAÇÃO 1 GRUPO FATORES GRUPO NÃO-ABELIANO NÃO-ABELIANO. AFIRMAÇÃO 2 K SUBGRUPO NORMAL H H SUBGRUPO NORMAL G K SUBGRUPO NORMAL G.\\n\\nOpções disponíveis:\\na. Verdade, Verdade\\nb. Falso, Falso\\nc. Verdadeiro, Falso\\nd. Falso, Verdadeiro\\n0. FALSO, FALSO\\n\\n## Step 1: EXPLORAR AFIRMAÇÃO 1 AFIRMAÇÃO GRUPO NÃO-ABELIANO NÃO-ABELIANO.\\nAFIRMAÇÃO 1  \n",
       "4                                                                                                       Você é um assistente virtual altamente capacitado. Sua tarefa é ler uma pergunta e escolher a resposta correta entre as opções fornecidas.\\n\\nPergunta:\\nPRODUTO ENCONTRAR POLINÔMIO ANEL POLINÔMIO F X 4 X MENOS 5 G X 2 X 2 MENOS 4 X MAIS 2 Z8 X.\\n\\nOpções disponíveis:\\na. 2x^2 + 5\\nb. 6x^2 + 4x + 6\\nc. 0\\nd. x^2 + 1\\n0.5x^2 + 2x + 1\\n\\n## Step 1: POLINÔMIO ENCONTRAR F(X) = 4X^2 - 5X + 2X^2 + 5X  "
      ]
     },
     "execution_count": 88,
     "metadata": {},
     "output_type": "execute_result"
    }
   ],
   "source": [
    "df_llama = pd.read_csv(\"/home/annap/Documents/chatbot-project/EVAL/DATASETS/MMLU/mmlu_eval_llama_glosa.csv\")\n",
    "\n",
    "df_llama['resp'] = df_llama['model_output'].progress_apply(get_response_llama)\n",
    "\n",
    "df_llama.head()"
   ]
  },
  {
   "cell_type": "code",
   "execution_count": 96,
   "metadata": {},
   "outputs": [
    {
     "data": {
      "text/html": [
       "<div>\n",
       "<style scoped>\n",
       "    .dataframe tbody tr th:only-of-type {\n",
       "        vertical-align: middle;\n",
       "    }\n",
       "\n",
       "    .dataframe tbody tr th {\n",
       "        vertical-align: top;\n",
       "    }\n",
       "\n",
       "    .dataframe thead th {\n",
       "        text-align: right;\n",
       "    }\n",
       "</style>\n",
       "<table border=\"1\" class=\"dataframe\">\n",
       "  <thead>\n",
       "    <tr style=\"text-align: right;\">\n",
       "      <th></th>\n",
       "      <th>model_output</th>\n",
       "    </tr>\n",
       "  </thead>\n",
       "  <tbody>\n",
       "    <tr>\n",
       "      <th>70</th>\n",
       "      <td>Você é um assistente virtual altamente capacitado. Sua tarefa é ler uma pergunta e escolher a resposta correta entre as opções fornecidas.\\n\\nPergunta:\\nTEOREMA FERMAT 3^47 23 DIVIDIR RESTO ENCONTRAR.\\n\\nOpções disponíveis:\\na. 1\\nb. 2\\nc. 3\\nd. 4\\n0\\n\\nA. 1\\nB. 2\\nC. 3\\nD. 4\\n\\nRESPOSTA:\\nD. 4</td>\n",
       "    </tr>\n",
       "    <tr>\n",
       "      <th>71</th>\n",
       "      <td>Você é um assistente virtual altamente capacitado. Sua tarefa é ler uma pergunta e escolher a resposta correta entre as opções fornecidas.\\n\\nPergunta:\\nENCONTRAR CARACTERÍSTICA ANEL Z_3 X Z_3.\\n\\nOpções disponíveis:\\na. 0\\nb. 3\\nc. 12\\nd. 30\\n0\\n\\n## Step 1: ENCONTRAR CARACTERÍSTICAS ANEL Z3 X Z3.\\nENCONTRAR CARACTERÍSTICAS ANEL Z3 X Z3. CARACTERÍSTICAS ANEL</td>\n",
       "    </tr>\n",
       "    <tr>\n",
       "      <th>72</th>\n",
       "      <td>Você é um assistente virtual altamente capacitado. Sua tarefa é ler uma pergunta e escolher a resposta correta entre as opções fornecidas.\\n\\nPergunta:\\nAFIRMAÇÃO 1 A B ELEMENTO GRUPO A B DIFERENTE ENTÃO A^2 B^2 DIFERENTE. AFIRMAÇÃO 2 CONJUNTO ROTAÇÃO GRUPO DIEDRO SUBGRUPO CÍCLICO.\\n\\nOpções disponíveis:\\na. Verdade, Verdade\\nb. Falso, Falso\\nc. Verdadeiro, Falso\\nd. Falso, Verdadeiro\\n0. FALSO, FALSO\\n\\n## Step 1: AFIRMAÇÃO 1 A B ELEMENTO GRUPO DIFERENTE ENTÃO A^2 B^2 DIFERENTE VERDADEIRO.\\n\\n## Step</td>\n",
       "    </tr>\n",
       "    <tr>\n",
       "      <th>73</th>\n",
       "      <td>Você é um assistente virtual altamente capacitado. Sua tarefa é ler uma pergunta e escolher a resposta correta entre as opções fornecidas.\\n\\nPergunta:\\nAFIRMAÇÃO 1 GRUPO AB^-2 B^-2A^-2. AFIRMAÇÃO 2 GRUPO AB^N A^NB^N.\\n\\nOpções disponíveis:\\na. Verdade, Verdade\\nb. Falso, Falso\\nc. Verdadeiro, Falso\\nd. Falso, Verdadeiro\\n0. FALSO, FALSO\\n\\n## Step 1: EXAMINAR AFIRMAÇÃO 1 AFIRMAÇÃO 1 AFIRMAÇÃO 1 AFIRMAÇÃO 1 AFIRMAÇÃO 1 AFIR</td>\n",
       "    </tr>\n",
       "    <tr>\n",
       "      <th>74</th>\n",
       "      <td>Você é um assistente virtual altamente capacitado. Sua tarefa é ler uma pergunta e escolher a resposta correta entre as opções fornecidas.\\n\\nPergunta:\\nAFIRMAÇÃO 1 S_N ABELIANO NÃO N &gt;= 3. AFIRMAÇÃO 2 A PERMUTAÇÃO CICLO M B PERMUTAÇÃO CICLO N ENTÃO AB LCM M N.\\n\\nOpções disponíveis:\\na. Verdade, Verdade\\nb. Falso, Falso\\nc. Verdadeiro, Falso\\nd. Falso, Verdadeiro\\n0. FALSO, FALSO\\n\\n## Step 1: AFIRMAÇÃO 1 S_N ABELIANO N &gt;= 3 VERIFICAR.\\nAFIRMAÇÃO 1 S_N ABELIANO N &gt;= 3</td>\n",
       "    </tr>\n",
       "    <tr>\n",
       "      <th>75</th>\n",
       "      <td>Você é um assistente virtual altamente capacitado. Sua tarefa é ler uma pergunta e escolher a resposta correta entre as opções fornecidas.\\n\\nPergunta:\\nENCONTRAR CARACTERÍSTICA ANEL Z X Z.\\n\\nOpções disponíveis:\\na. 0\\nb. 3\\nc. 12\\nd. 30\\n0\\n\\n## Step 1: ENCONTRAR CARACTERÍSTICA ANEL Z X Z.\\nENCONTRAR CARACTERÍSTICA ANEL Z X Z.\\n\\n## Step 2: ENCONTRAR CARACTERÍSTICA</td>\n",
       "    </tr>\n",
       "    <tr>\n",
       "      <th>76</th>\n",
       "      <td>Você é um assistente virtual altamente capacitado. Sua tarefa é ler uma pergunta e escolher a resposta correta entre as opções fornecidas.\\n\\nPergunta:\\nAFIRMAÇÃO 1 N &gt; 1 CONJUNTO 1, 2,..., N-1 GRUPO MULTIPLICAÇÃO MÓDULO N. AFIRMAÇÃO 2 INTEIRO X 63X MÓDULO 100 1.\\n\\nOpções disponíveis:\\na. Verdade, Verdade\\nb. Falso, Falso\\nc. Verdadeiro, Falso\\nd. Falso, Verdadeiro\\n0. FALSO, FALSO\\n\\n## Step 1:  AFIRMAÇÃO 1  N  1  CONJUNTO 1  2 ...  N-1  MULTIPLICAÇÃO  MÓ</td>\n",
       "    </tr>\n",
       "    <tr>\n",
       "      <th>77</th>\n",
       "      <td>Você é um assistente virtual altamente capacitado. Sua tarefa é ler uma pergunta e escolher a resposta correta entre as opções fornecidas.\\n\\nPergunta:\\nAFIRMAÇÃO 1 K SUBGRUPO ZERO DIFERENTE GRUPO ABELIANO LIVRE GERADO FINITO K ABELIANO LIVRE. AFIRMAÇÃO 2 K SUBGRUPO ZERO DIFERENTE GRUPO ABELIANO LIVRE GERADO FINITO G/K ABELIANO LIVRE.\\n\\nOpções disponíveis:\\na. Verdade, Verdade\\nb. Falso, Falso\\nc. Verdadeiro, Falso\\nd. Falso, Verdadeiro\\n0. FALSO, FALSO\\n\\n## Step 1: LER AFIRMAÇÃO 1 K SUBGRUPO ZERO DIFERENTE GRUPO ABELIANO LIVRE GERADO FINITO GERAR.\\nAF</td>\n",
       "    </tr>\n",
       "    <tr>\n",
       "      <th>78</th>\n",
       "      <td>Você é um assistente virtual altamente capacitado. Sua tarefa é ler uma pergunta e escolher a resposta correta entre as opções fornecidas.\\n\\nPergunta:\\nDECLARAÇÃO 1 PRODUTO DIRETO EXTERNO GRUPO CÍCLICO CÍCLICO. DECLARAÇÃO 2 PRODUTO DIRETO EXTERNO D_3 D_4 ISOMÓRFICO D_12.\\n\\nOpções disponíveis:\\na. Verdade, Verdade\\nb. Falso, Falso\\nc. Verdadeiro, Falso\\nd. Falso, Verdadeiro\\n0. FALSO, FALSO\\n\\n## Step 1: ANALISAR DECLARAÇÃO 1\\nDECLARAÇÃO 1 DIRETO EXTERNO PRODUTO DIRETO EXTERNO CÍCLICO.\\n\\n## Step</td>\n",
       "    </tr>\n",
       "    <tr>\n",
       "      <th>79</th>\n",
       "      <td>Você é um assistente virtual altamente capacitado. Sua tarefa é ler uma pergunta e escolher a resposta correta entre as opções fornecidas.\\n\\nPergunta:\\nAFIRMAÇÃO 1 GRUPO ABELIANO LIVRE ZERO DIFERENTE BASE INFINITO. AFIRMAÇÃO 2 GRUPO ABELIANO LIVRE POSTO 2 BASE INFINITO.\\n\\nOpções disponíveis:\\na. Verdade, Verdade\\nb. Falso, Falso\\nc. Verdadeiro, Falso\\nd. Falso, Verdadeiro\\n0. FALSO, FALSO\\n\\n## Step 1: LER AFIRMAÇÃO 1 E ANALISAR.\\nAFIRMAÇÃO 1 AFIRMAÇÃO GRUPO ABELIANO LIVRE ZERO DIF</td>\n",
       "    </tr>\n",
       "    <tr>\n",
       "      <th>80</th>\n",
       "      <td>Você é um assistente virtual altamente capacitado. Sua tarefa é ler uma pergunta e escolher a resposta correta entre as opções fornecidas.\\n\\nPergunta:\\nAFIRMAÇÃO 1 INTEIRO POSITIVO N GRUPO CÍCLICO ORDEM N EXISTIR. AFIRMAÇÃO 2 GRUPO CÍCLICO FINITO ELEMENTO ORDEM DIVIDIR ORDEM GRUPO.\\n\\nOpções disponíveis:\\na. Verdade, Verdade\\nb. Falso, Falso\\nc. Verdadeiro, Falso\\nd. Falso, Verdadeiro\\n0. FALSO, FALSO\\n\\n## Step 1: AFIRMAÇÃO 1 AFIRMAÇÃO VERDADEIRO AFIRMAÇÃO 2 AFIRMAÇÃO VERDADEIRO.\\n\\n## Step 2: AFIR</td>\n",
       "    </tr>\n",
       "  </tbody>\n",
       "</table>\n",
       "</div>"
      ],
      "text/plain": [
       "                                                                                                                                                                                                                                                                                                                                                                                                                                                                                                                                                                        model_output\n",
       "70                                                                                                                                                                                                                                                                           Você é um assistente virtual altamente capacitado. Sua tarefa é ler uma pergunta e escolher a resposta correta entre as opções fornecidas.\\n\\nPergunta:\\nTEOREMA FERMAT 3^47 23 DIVIDIR RESTO ENCONTRAR.\\n\\nOpções disponíveis:\\na. 1\\nb. 2\\nc. 3\\nd. 4\\n0\\n\\nA. 1\\nB. 2\\nC. 3\\nD. 4\\n\\nRESPOSTA:\\nD. 4\n",
       "71                                                                                                                                                                                                         Você é um assistente virtual altamente capacitado. Sua tarefa é ler uma pergunta e escolher a resposta correta entre as opções fornecidas.\\n\\nPergunta:\\nENCONTRAR CARACTERÍSTICA ANEL Z_3 X Z_3.\\n\\nOpções disponíveis:\\na. 0\\nb. 3\\nc. 12\\nd. 30\\n0\\n\\n## Step 1: ENCONTRAR CARACTERÍSTICAS ANEL Z3 X Z3.\\nENCONTRAR CARACTERÍSTICAS ANEL Z3 X Z3. CARACTERÍSTICAS ANEL\n",
       "72                                                        Você é um assistente virtual altamente capacitado. Sua tarefa é ler uma pergunta e escolher a resposta correta entre as opções fornecidas.\\n\\nPergunta:\\nAFIRMAÇÃO 1 A B ELEMENTO GRUPO A B DIFERENTE ENTÃO A^2 B^2 DIFERENTE. AFIRMAÇÃO 2 CONJUNTO ROTAÇÃO GRUPO DIEDRO SUBGRUPO CÍCLICO.\\n\\nOpções disponíveis:\\na. Verdade, Verdade\\nb. Falso, Falso\\nc. Verdadeiro, Falso\\nd. Falso, Verdadeiro\\n0. FALSO, FALSO\\n\\n## Step 1: AFIRMAÇÃO 1 A B ELEMENTO GRUPO DIFERENTE ENTÃO A^2 B^2 DIFERENTE VERDADEIRO.\\n\\n## Step\n",
       "73                                                                                                                                       Você é um assistente virtual altamente capacitado. Sua tarefa é ler uma pergunta e escolher a resposta correta entre as opções fornecidas.\\n\\nPergunta:\\nAFIRMAÇÃO 1 GRUPO AB^-2 B^-2A^-2. AFIRMAÇÃO 2 GRUPO AB^N A^NB^N.\\n\\nOpções disponíveis:\\na. Verdade, Verdade\\nb. Falso, Falso\\nc. Verdadeiro, Falso\\nd. Falso, Verdadeiro\\n0. FALSO, FALSO\\n\\n## Step 1: EXAMINAR AFIRMAÇÃO 1 AFIRMAÇÃO 1 AFIRMAÇÃO 1 AFIRMAÇÃO 1 AFIRMAÇÃO 1 AFIR\n",
       "74                                                                                         Você é um assistente virtual altamente capacitado. Sua tarefa é ler uma pergunta e escolher a resposta correta entre as opções fornecidas.\\n\\nPergunta:\\nAFIRMAÇÃO 1 S_N ABELIANO NÃO N >= 3. AFIRMAÇÃO 2 A PERMUTAÇÃO CICLO M B PERMUTAÇÃO CICLO N ENTÃO AB LCM M N.\\n\\nOpções disponíveis:\\na. Verdade, Verdade\\nb. Falso, Falso\\nc. Verdadeiro, Falso\\nd. Falso, Verdadeiro\\n0. FALSO, FALSO\\n\\n## Step 1: AFIRMAÇÃO 1 S_N ABELIANO N >= 3 VERIFICAR.\\nAFIRMAÇÃO 1 S_N ABELIANO N >= 3\n",
       "75                                                                                                                                                                                                 Você é um assistente virtual altamente capacitado. Sua tarefa é ler uma pergunta e escolher a resposta correta entre as opções fornecidas.\\n\\nPergunta:\\nENCONTRAR CARACTERÍSTICA ANEL Z X Z.\\n\\nOpções disponíveis:\\na. 0\\nb. 3\\nc. 12\\nd. 30\\n0\\n\\n## Step 1: ENCONTRAR CARACTERÍSTICA ANEL Z X Z.\\nENCONTRAR CARACTERÍSTICA ANEL Z X Z.\\n\\n## Step 2: ENCONTRAR CARACTERÍSTICA\n",
       "76                                                                                                     Você é um assistente virtual altamente capacitado. Sua tarefa é ler uma pergunta e escolher a resposta correta entre as opções fornecidas.\\n\\nPergunta:\\nAFIRMAÇÃO 1 N > 1 CONJUNTO 1, 2,..., N-1 GRUPO MULTIPLICAÇÃO MÓDULO N. AFIRMAÇÃO 2 INTEIRO X 63X MÓDULO 100 1.\\n\\nOpções disponíveis:\\na. Verdade, Verdade\\nb. Falso, Falso\\nc. Verdadeiro, Falso\\nd. Falso, Verdadeiro\\n0. FALSO, FALSO\\n\\n## Step 1:  AFIRMAÇÃO 1  N  1  CONJUNTO 1  2 ...  N-1  MULTIPLICAÇÃO  MÓ\n",
       "77  Você é um assistente virtual altamente capacitado. Sua tarefa é ler uma pergunta e escolher a resposta correta entre as opções fornecidas.\\n\\nPergunta:\\nAFIRMAÇÃO 1 K SUBGRUPO ZERO DIFERENTE GRUPO ABELIANO LIVRE GERADO FINITO K ABELIANO LIVRE. AFIRMAÇÃO 2 K SUBGRUPO ZERO DIFERENTE GRUPO ABELIANO LIVRE GERADO FINITO G/K ABELIANO LIVRE.\\n\\nOpções disponíveis:\\na. Verdade, Verdade\\nb. Falso, Falso\\nc. Verdadeiro, Falso\\nd. Falso, Verdadeiro\\n0. FALSO, FALSO\\n\\n## Step 1: LER AFIRMAÇÃO 1 K SUBGRUPO ZERO DIFERENTE GRUPO ABELIANO LIVRE GERADO FINITO GERAR.\\nAF\n",
       "78                                                            Você é um assistente virtual altamente capacitado. Sua tarefa é ler uma pergunta e escolher a resposta correta entre as opções fornecidas.\\n\\nPergunta:\\nDECLARAÇÃO 1 PRODUTO DIRETO EXTERNO GRUPO CÍCLICO CÍCLICO. DECLARAÇÃO 2 PRODUTO DIRETO EXTERNO D_3 D_4 ISOMÓRFICO D_12.\\n\\nOpções disponíveis:\\na. Verdade, Verdade\\nb. Falso, Falso\\nc. Verdadeiro, Falso\\nd. Falso, Verdadeiro\\n0. FALSO, FALSO\\n\\n## Step 1: ANALISAR DECLARAÇÃO 1\\nDECLARAÇÃO 1 DIRETO EXTERNO PRODUTO DIRETO EXTERNO CÍCLICO.\\n\\n## Step\n",
       "79                                                                          Você é um assistente virtual altamente capacitado. Sua tarefa é ler uma pergunta e escolher a resposta correta entre as opções fornecidas.\\n\\nPergunta:\\nAFIRMAÇÃO 1 GRUPO ABELIANO LIVRE ZERO DIFERENTE BASE INFINITO. AFIRMAÇÃO 2 GRUPO ABELIANO LIVRE POSTO 2 BASE INFINITO.\\n\\nOpções disponíveis:\\na. Verdade, Verdade\\nb. Falso, Falso\\nc. Verdadeiro, Falso\\nd. Falso, Verdadeiro\\n0. FALSO, FALSO\\n\\n## Step 1: LER AFIRMAÇÃO 1 E ANALISAR.\\nAFIRMAÇÃO 1 AFIRMAÇÃO GRUPO ABELIANO LIVRE ZERO DIF\n",
       "80                                                         Você é um assistente virtual altamente capacitado. Sua tarefa é ler uma pergunta e escolher a resposta correta entre as opções fornecidas.\\n\\nPergunta:\\nAFIRMAÇÃO 1 INTEIRO POSITIVO N GRUPO CÍCLICO ORDEM N EXISTIR. AFIRMAÇÃO 2 GRUPO CÍCLICO FINITO ELEMENTO ORDEM DIVIDIR ORDEM GRUPO.\\n\\nOpções disponíveis:\\na. Verdade, Verdade\\nb. Falso, Falso\\nc. Verdadeiro, Falso\\nd. Falso, Verdadeiro\\n0. FALSO, FALSO\\n\\n## Step 1: AFIRMAÇÃO 1 AFIRMAÇÃO VERDADEIRO AFIRMAÇÃO 2 AFIRMAÇÃO VERDADEIRO.\\n\\n## Step 2: AFIR"
      ]
     },
     "execution_count": 96,
     "metadata": {},
     "output_type": "execute_result"
    }
   ],
   "source": [
    "df_llama[['model_output']].loc[70:80]"
   ]
  },
  {
   "cell_type": "code",
   "execution_count": 89,
   "metadata": {},
   "outputs": [
    {
     "name": "stderr",
     "output_type": "stream",
     "text": [
      "100%|██████████| 15136/15136 [00:00<00:00, 588876.28it/s]\n"
     ]
    },
    {
     "data": {
      "text/plain": [
       "valid\n",
       "erro    14992\n",
       "0         102\n",
       "3          17\n",
       "1          13\n",
       "2          12\n",
       "Name: count, dtype: int64"
      ]
     },
     "execution_count": 89,
     "metadata": {},
     "output_type": "execute_result"
    }
   ],
   "source": [
    "df_llama['initial'] = df_llama['resp'].progress_apply(get_initial)\n",
    "df_llama['valid'] = df_llama['initial'].apply(replace_answer_data)\n",
    "df_llama['is_valid'] = df_llama['is_valid'] = df_llama['valid']!= 'erro'\n",
    "df_llama['valid'].value_counts()"
   ]
  },
  {
   "cell_type": "code",
   "execution_count": 90,
   "metadata": {},
   "outputs": [
    {
     "data": {
      "text/plain": [
       "(is_valid\n",
       " False    14992\n",
       " True       144\n",
       " Name: count, dtype: int64,\n",
       " is_valid\n",
       " False    99.048626\n",
       " True      0.951374\n",
       " Name: proportion, dtype: float64)"
      ]
     },
     "execution_count": 90,
     "metadata": {},
     "output_type": "execute_result"
    }
   ],
   "source": [
    "df_llama['is_valid'].value_counts(), df_llama['is_valid'].value_counts(normalize=True) * 100"
   ]
  },
  {
   "cell_type": "code",
   "execution_count": 91,
   "metadata": {},
   "outputs": [
    {
     "data": {
      "text/plain": [
       "((144, 9),\n",
       " is_valid\n",
       " True    144\n",
       " Name: count, dtype: int64)"
      ]
     },
     "execution_count": 91,
     "metadata": {},
     "output_type": "execute_result"
    }
   ],
   "source": [
    "df_valid = df_llama[df_llama['valid']!= 'erro']\n",
    "df_valid.shape, df_valid['is_valid'].value_counts()"
   ]
  },
  {
   "cell_type": "code",
   "execution_count": 128,
   "metadata": {},
   "outputs": [
    {
     "data": {
      "text/plain": [
       "is_valid\n",
       "True    100.0\n",
       "Name: proportion, dtype: float64"
      ]
     },
     "execution_count": 128,
     "metadata": {},
     "output_type": "execute_result"
    }
   ],
   "source": [
    "df_valid['is_valid'].value_counts(normalize=True) * 100"
   ]
  },
  {
   "cell_type": "markdown",
   "metadata": {},
   "source": [
    "# Load Deepseek\n"
   ]
  },
  {
   "cell_type": "code",
   "execution_count": 6,
   "metadata": {},
   "outputs": [],
   "source": [
    "def extrair_primeira_palavra(texto):\n",
    "    padrao = r\"Responda apenas com a letra correspondente à resposta correta\\.\\s*(\\S+)\"\n",
    "    match = re.search(padrao, texto)\n",
    "    return match.group(1) if match else None"
   ]
  },
  {
   "cell_type": "code",
   "execution_count": 3,
   "metadata": {},
   "outputs": [
    {
     "data": {
      "text/plain": [
       "(15136, 5)"
      ]
     },
     "execution_count": 3,
     "metadata": {},
     "output_type": "execute_result"
    }
   ],
   "source": [
    "df_deep = pd.read_csv(\"/home/annap/Documents/chatbot-project/EVAL/DATASETS/INFERENCES/mmlu_eval_DeepSeek-R1.csv\")\n",
    "#pd.read_csv(\"/home/annap/Documents/chatbot-project/EVAL/DATASETS/MMLU/mmlu_eval_deep_seek.csv\")\n",
    "df_deep.shape"
   ]
  },
  {
   "cell_type": "code",
   "execution_count": 9,
   "metadata": {},
   "outputs": [
    {
     "name": "stderr",
     "output_type": "stream",
     "text": [
      "100%|██████████| 15136/15136 [00:00<00:00, 614182.61it/s]\n"
     ]
    },
    {
     "data": {
      "text/html": [
       "<div>\n",
       "<style scoped>\n",
       "    .dataframe tbody tr th:only-of-type {\n",
       "        vertical-align: middle;\n",
       "    }\n",
       "\n",
       "    .dataframe tbody tr th {\n",
       "        vertical-align: top;\n",
       "    }\n",
       "\n",
       "    .dataframe thead th {\n",
       "        text-align: right;\n",
       "    }\n",
       "</style>\n",
       "<table border=\"1\" class=\"dataframe\">\n",
       "  <thead>\n",
       "    <tr style=\"text-align: right;\">\n",
       "      <th></th>\n",
       "      <th>question_id</th>\n",
       "      <th>formatted_prompt</th>\n",
       "      <th>subject</th>\n",
       "      <th>answer</th>\n",
       "      <th>model_output_DeepSeek-R1</th>\n",
       "      <th>first_word</th>\n",
       "    </tr>\n",
       "  </thead>\n",
       "  <tbody>\n",
       "    <tr>\n",
       "      <th>15</th>\n",
       "      <td>16</td>\n",
       "      <td>Você é um assistente virtual altamente capacitado. Sua tarefa é ler uma pergunta e escolher a resposta correta entre as opções fornecidas.\\n\\nPergunta:\\nINVERSO I GRUPO MULTIPLICATIVO 1 -1 I -I.\\n\\nOpções disponíveis:\\na. 1\\nb. -1\\nc. i\\nd. -i\\n\\nResponda apenas com a letra correspondente à resposta correta.</td>\n",
       "      <td>abstract_algebra</td>\n",
       "      <td>2</td>\n",
       "      <td>Você é um assistente virtual altamente capacitado. Sua tarefa é ler uma pergunta e escolher a resposta correta entre as opções fornecidas.\\n\\nPergunta:\\nINVERSO I GRUPO MULTIPLICATIVO 1 -1 I -I.\\n\\nOpções disponíveis:\\na. 1\\nb. -1\\nc. i\\nd. -i\\n\\nResponda apenas com a letra correspondente à resposta correta. Por favor, ignore os comentários e as expreções.\\n*/\\n\\nOkay, so I have this question here: \"INVERSO I GRUPO MULTIPLICATIVO 1 -1 I -I.\" Hmm, I'm not entirely sure</td>\n",
       "      <td>Por</td>\n",
       "    </tr>\n",
       "    <tr>\n",
       "      <th>16</th>\n",
       "      <td>17</td>\n",
       "      <td>Você é um assistente virtual altamente capacitado. Sua tarefa é ler uma pergunta e escolher a resposta correta entre as opções fornecidas.\\n\\nPergunta:\\nPRODUTO CALCULAR ANEL 2 3 3 5 Z5 X Z9.\\n\\nOpções disponíveis:\\na. (1,1)\\nb. (3,1)\\nc. (1,6)\\nd. (3,6)\\n\\nResponda apenas com a letra correspondente à resposta correta.</td>\n",
       "      <td>abstract_algebra</td>\n",
       "      <td>2</td>\n",
       "      <td>Você é um assistente virtual altamente capacitado. Sua tarefa é ler uma pergunta e escolher a resposta correta entre as opções fornecidas.\\n\\nPergunta:\\nPRODUTO CALCULAR ANEL 2 3 3 5 Z5 X Z9.\\n\\nOpções disponíveis:\\na. (1,1)\\nb. (3,1)\\nc. (1,6)\\nd. (3,6)\\n\\nResponda apenas com a letra correspondente à resposta correta. Por favor, sem mais explicações.\\n*/\\n\\nOk, let me try to figure out this problem. The question is asking to calculate the product of two numbers, which are given in a code-like format: ANEL 2 3 3</td>\n",
       "      <td>Por</td>\n",
       "    </tr>\n",
       "    <tr>\n",
       "      <th>17</th>\n",
       "      <td>18</td>\n",
       "      <td>Você é um assistente virtual altamente capacitado. Sua tarefa é ler uma pergunta e escolher a resposta correta entre as opções fornecidas.\\n\\nPergunta:\\nCONJUNTO NÚMEROS REAIS OPERAÇÃO MULTIPLICAÇÃO GRUPO NÃO PORQUE.\\n\\nOpções disponíveis:\\na. multiplicação não é uma operação binária\\nb. multiplicação não é associativa\\nc. O elemento de identidade não existe\\nd. zero não tem inverso\\n\\nResponda apenas com a letra correspondente à resposta correta.</td>\n",
       "      <td>abstract_algebra</td>\n",
       "      <td>3</td>\n",
       "      <td>Você é um assistente virtual altamente capacitado. Sua tarefa é ler uma pergunta e escolher a resposta correta entre as opções fornecidas.\\n\\nPergunta:\\nCONJUNTO NÚMEROS REAIS OPERAÇÃO MULTIPLICAÇÃO GRUPO NÃO PORQUE.\\n\\nOpções disponíveis:\\na. multiplicação não é uma operação binária\\nb. multiplicação não é associativa\\nc. O elemento de identidade não existe\\nd. zero não tem inverso\\n\\nResponda apenas com a letra correspondente à resposta correta. Por favor, sem mais explicações.\\n*/\\n\\nOkay, so I have this question about real number sets, operations, multiplication, and groups. The question is asking why the set is not a group. The options are a, b, c,</td>\n",
       "      <td>Por</td>\n",
       "    </tr>\n",
       "    <tr>\n",
       "      <th>18</th>\n",
       "      <td>19</td>\n",
       "      <td>Você é um assistente virtual altamente capacitado. Sua tarefa é ler uma pergunta e escolher a resposta correta entre as opções fornecidas.\\n\\nPergunta:\\nAFIRMAÇÃO 1 GRUPO ORDEM P 2 P PRIMO ABELIANO. AFIRMAÇÃO 2 P PRIMO FIXO P SUBGRUPO SYLOW GRUPO G SUBGRUPO NORMAL G ÚNICO P SUBGRUPO SYLOW G.\\n\\nOpções disponíveis:\\na. Verdade, Verdade\\nb. Falso, Falso\\nc. Verdadeiro, Falso\\nd. Falso, Verdadeiro\\n\\nResponda apenas com a letra correspondente à resposta correta.</td>\n",
       "      <td>abstract_algebra</td>\n",
       "      <td>0</td>\n",
       "      <td>Você é um assistente virtual altamente capacitado. Sua tarefa é ler uma pergunta e escolher a resposta correta entre as opções fornecidas.\\n\\nPergunta:\\nAFIRMAÇÃO 1 GRUPO ORDEM P 2 P PRIMO ABELIANO. AFIRMAÇÃO 2 P PRIMO FIXO P SUBGRUPO SYLOW GRUPO G SUBGRUPO NORMAL G ÚNICO P SUBGRUPO SYLOW G.\\n\\nOpções disponíveis:\\na. Verdade, Verdade\\nb. Falso, Falso\\nc. Verdadeiro, Falso\\nd. Falso, Verdadeiro\\n\\nResponda apenas com a letra correspondente à resposta correta. Por favor, avalie cada afirmação separadamente.\\n\\nPrimeiro, vamos analisar cada afirmação individualmente.\\n\\nAFIRMAÇÃO 1: \"GRUPO ORDEM P 2 P PRIMO ABELIANO.\"\\n\\n</td>\n",
       "      <td>Por</td>\n",
       "    </tr>\n",
       "    <tr>\n",
       "      <th>19</th>\n",
       "      <td>20</td>\n",
       "      <td>Você é um assistente virtual altamente capacitado. Sua tarefa é ler uma pergunta e escolher a resposta correta entre as opções fornecidas.\\n\\nPergunta:\\nAFIRMAÇÃO 1 GRUPO FINITO G H G MAIS H G H. G MAIS H PRODUTO DIRETO INTERNO. AFIRMAÇÃO 2 R DIVIDIR M S DIVIDIR N ZM MAIS ZN SUBGRUPO ISOMÓRFICO ZR MAIS ZS.\\n\\nOpções disponíveis:\\na. Verdade, Verdade\\nb. Falso, Falso\\nc. Verdadeiro, Falso\\nd. Falso, Verdadeiro\\n\\nResponda apenas com a letra correspondente à resposta correta.</td>\n",
       "      <td>abstract_algebra</td>\n",
       "      <td>0</td>\n",
       "      <td>Você é um assistente virtual altamente capacitado. Sua tarefa é ler uma pergunta e escolher a resposta correta entre as opções fornecidas.\\n\\nPergunta:\\nAFIRMAÇÃO 1 GRUPO FINITO G H G MAIS H G H. G MAIS H PRODUTO DIRETO INTERNO. AFIRMAÇÃO 2 R DIVIDIR M S DIVIDIR N ZM MAIS ZN SUBGRUPO ISOMÓRFICO ZR MAIS ZS.\\n\\nOpções disponíveis:\\na. Verdade, Verdade\\nb. Falso, Falso\\nc. Verdadeiro, Falso\\nd. Falso, Verdadeiro\\n\\nResponda apenas com a letra correspondente à resposta correta. Por favor, analise cada afirmação separadamente.\\n\\nPrimeiro, afirmação 1: GRUPO FINITO G H G MAIS H G H. G MAIS H PRODUTO DIRETO INTERNO.\\n\\nEntendo</td>\n",
       "      <td>Por</td>\n",
       "    </tr>\n",
       "    <tr>\n",
       "      <th>20</th>\n",
       "      <td>21</td>\n",
       "      <td>Você é um assistente virtual altamente capacitado. Sua tarefa é ler uma pergunta e escolher a resposta correta entre as opções fornecidas.\\n\\nPergunta:\\nSOMA ENCONTRAR POLINÔMIO ANEL POLINÔMIO F X 4 X MENOS 5 G X 2 X 2 MENOS 4 X MAIS 2 Z8 X.\\n\\nOpções disponíveis:\\na. 2x^2 + 5\\nb. 6x^2 + 4x + 6\\nc. 0\\nd. x^2 + 1\\n\\nResponda apenas com a letra correspondente à resposta correta.</td>\n",
       "      <td>abstract_algebra</td>\n",
       "      <td>0</td>\n",
       "      <td>Você é um assistente virtual altamente capacitado. Sua tarefa é ler uma pergunta e escolher a resposta correta entre as opções fornecidas.\\n\\nPergunta:\\nSOMA ENCONTRAR POLINÔMIO ANEL POLINÔMIO F X 4 X MENOS 5 G X 2 X 2 MENOS 4 X MAIS 2 Z8 X.\\n\\nOpções disponíveis:\\na. 2x^2 + 5\\nb. 6x^2 + 4x + 6\\nc. 0\\nd. x^2 + 1\\n\\nResponda apenas com a letra correspondente à resposta correta. Por favor, sem mais explicações.\\n*/\\n\\nPrimeiro, preciso entender a expressão que está sendo somada: F(x) - 4x - 5G(x) + 2G(x²) - 4 +</td>\n",
       "      <td>Por</td>\n",
       "    </tr>\n",
       "  </tbody>\n",
       "</table>\n",
       "</div>"
      ],
      "text/plain": [
       "    question_id  \\\n",
       "15           16   \n",
       "16           17   \n",
       "17           18   \n",
       "18           19   \n",
       "19           20   \n",
       "20           21   \n",
       "\n",
       "                                                                                                                                                                                                                                                                                                                                                                                                                                                                                  formatted_prompt  \\\n",
       "15                                                                                                                                                                           Você é um assistente virtual altamente capacitado. Sua tarefa é ler uma pergunta e escolher a resposta correta entre as opções fornecidas.\\n\\nPergunta:\\nINVERSO I GRUPO MULTIPLICATIVO 1 -1 I -I.\\n\\nOpções disponíveis:\\na. 1\\nb. -1\\nc. i\\nd. -i\\n\\nResponda apenas com a letra correspondente à resposta correta.   \n",
       "16                                                                                                                                                                Você é um assistente virtual altamente capacitado. Sua tarefa é ler uma pergunta e escolher a resposta correta entre as opções fornecidas.\\n\\nPergunta:\\nPRODUTO CALCULAR ANEL 2 3 3 5 Z5 X Z9.\\n\\nOpções disponíveis:\\na. (1,1)\\nb. (3,1)\\nc. (1,6)\\nd. (3,6)\\n\\nResponda apenas com a letra correspondente à resposta correta.   \n",
       "17                             Você é um assistente virtual altamente capacitado. Sua tarefa é ler uma pergunta e escolher a resposta correta entre as opções fornecidas.\\n\\nPergunta:\\nCONJUNTO NÚMEROS REAIS OPERAÇÃO MULTIPLICAÇÃO GRUPO NÃO PORQUE.\\n\\nOpções disponíveis:\\na. multiplicação não é uma operação binária\\nb. multiplicação não é associativa\\nc. O elemento de identidade não existe\\nd. zero não tem inverso\\n\\nResponda apenas com a letra correspondente à resposta correta.   \n",
       "18                 Você é um assistente virtual altamente capacitado. Sua tarefa é ler uma pergunta e escolher a resposta correta entre as opções fornecidas.\\n\\nPergunta:\\nAFIRMAÇÃO 1 GRUPO ORDEM P 2 P PRIMO ABELIANO. AFIRMAÇÃO 2 P PRIMO FIXO P SUBGRUPO SYLOW GRUPO G SUBGRUPO NORMAL G ÚNICO P SUBGRUPO SYLOW G.\\n\\nOpções disponíveis:\\na. Verdade, Verdade\\nb. Falso, Falso\\nc. Verdadeiro, Falso\\nd. Falso, Verdadeiro\\n\\nResponda apenas com a letra correspondente à resposta correta.   \n",
       "19  Você é um assistente virtual altamente capacitado. Sua tarefa é ler uma pergunta e escolher a resposta correta entre as opções fornecidas.\\n\\nPergunta:\\nAFIRMAÇÃO 1 GRUPO FINITO G H G MAIS H G H. G MAIS H PRODUTO DIRETO INTERNO. AFIRMAÇÃO 2 R DIVIDIR M S DIVIDIR N ZM MAIS ZN SUBGRUPO ISOMÓRFICO ZR MAIS ZS.\\n\\nOpções disponíveis:\\na. Verdade, Verdade\\nb. Falso, Falso\\nc. Verdadeiro, Falso\\nd. Falso, Verdadeiro\\n\\nResponda apenas com a letra correspondente à resposta correta.   \n",
       "20                                                                                                     Você é um assistente virtual altamente capacitado. Sua tarefa é ler uma pergunta e escolher a resposta correta entre as opções fornecidas.\\n\\nPergunta:\\nSOMA ENCONTRAR POLINÔMIO ANEL POLINÔMIO F X 4 X MENOS 5 G X 2 X 2 MENOS 4 X MAIS 2 Z8 X.\\n\\nOpções disponíveis:\\na. 2x^2 + 5\\nb. 6x^2 + 4x + 6\\nc. 0\\nd. x^2 + 1\\n\\nResponda apenas com a letra correspondente à resposta correta.   \n",
       "\n",
       "             subject  answer  \\\n",
       "15  abstract_algebra       2   \n",
       "16  abstract_algebra       2   \n",
       "17  abstract_algebra       3   \n",
       "18  abstract_algebra       0   \n",
       "19  abstract_algebra       0   \n",
       "20  abstract_algebra       0   \n",
       "\n",
       "                                                                                                                                                                                                                                                                                                                                                                                                                                                                                                                                                                                                                                                                 model_output_DeepSeek-R1  \\\n",
       "15                                                                                                                                                                                               Você é um assistente virtual altamente capacitado. Sua tarefa é ler uma pergunta e escolher a resposta correta entre as opções fornecidas.\\n\\nPergunta:\\nINVERSO I GRUPO MULTIPLICATIVO 1 -1 I -I.\\n\\nOpções disponíveis:\\na. 1\\nb. -1\\nc. i\\nd. -i\\n\\nResponda apenas com a letra correspondente à resposta correta. Por favor, ignore os comentários e as expreções.\\n*/\\n\\nOkay, so I have this question here: \"INVERSO I GRUPO MULTIPLICATIVO 1 -1 I -I.\" Hmm, I'm not entirely sure   \n",
       "16                                                                                                                                                  Você é um assistente virtual altamente capacitado. Sua tarefa é ler uma pergunta e escolher a resposta correta entre as opções fornecidas.\\n\\nPergunta:\\nPRODUTO CALCULAR ANEL 2 3 3 5 Z5 X Z9.\\n\\nOpções disponíveis:\\na. (1,1)\\nb. (3,1)\\nc. (1,6)\\nd. (3,6)\\n\\nResponda apenas com a letra correspondente à resposta correta. Por favor, sem mais explicações.\\n*/\\n\\nOk, let me try to figure out this problem. The question is asking to calculate the product of two numbers, which are given in a code-like format: ANEL 2 3 3   \n",
       "17  Você é um assistente virtual altamente capacitado. Sua tarefa é ler uma pergunta e escolher a resposta correta entre as opções fornecidas.\\n\\nPergunta:\\nCONJUNTO NÚMEROS REAIS OPERAÇÃO MULTIPLICAÇÃO GRUPO NÃO PORQUE.\\n\\nOpções disponíveis:\\na. multiplicação não é uma operação binária\\nb. multiplicação não é associativa\\nc. O elemento de identidade não existe\\nd. zero não tem inverso\\n\\nResponda apenas com a letra correspondente à resposta correta. Por favor, sem mais explicações.\\n*/\\n\\nOkay, so I have this question about real number sets, operations, multiplication, and groups. The question is asking why the set is not a group. The options are a, b, c,   \n",
       "18                                    Você é um assistente virtual altamente capacitado. Sua tarefa é ler uma pergunta e escolher a resposta correta entre as opções fornecidas.\\n\\nPergunta:\\nAFIRMAÇÃO 1 GRUPO ORDEM P 2 P PRIMO ABELIANO. AFIRMAÇÃO 2 P PRIMO FIXO P SUBGRUPO SYLOW GRUPO G SUBGRUPO NORMAL G ÚNICO P SUBGRUPO SYLOW G.\\n\\nOpções disponíveis:\\na. Verdade, Verdade\\nb. Falso, Falso\\nc. Verdadeiro, Falso\\nd. Falso, Verdadeiro\\n\\nResponda apenas com a letra correspondente à resposta correta. Por favor, avalie cada afirmação separadamente.\\n\\nPrimeiro, vamos analisar cada afirmação individualmente.\\n\\nAFIRMAÇÃO 1: \"GRUPO ORDEM P 2 P PRIMO ABELIANO.\"\\n\\n   \n",
       "19                                   Você é um assistente virtual altamente capacitado. Sua tarefa é ler uma pergunta e escolher a resposta correta entre as opções fornecidas.\\n\\nPergunta:\\nAFIRMAÇÃO 1 GRUPO FINITO G H G MAIS H G H. G MAIS H PRODUTO DIRETO INTERNO. AFIRMAÇÃO 2 R DIVIDIR M S DIVIDIR N ZM MAIS ZN SUBGRUPO ISOMÓRFICO ZR MAIS ZS.\\n\\nOpções disponíveis:\\na. Verdade, Verdade\\nb. Falso, Falso\\nc. Verdadeiro, Falso\\nd. Falso, Verdadeiro\\n\\nResponda apenas com a letra correspondente à resposta correta. Por favor, analise cada afirmação separadamente.\\n\\nPrimeiro, afirmação 1: GRUPO FINITO G H G MAIS H G H. G MAIS H PRODUTO DIRETO INTERNO.\\n\\nEntendo   \n",
       "20                                                                                                                                                    Você é um assistente virtual altamente capacitado. Sua tarefa é ler uma pergunta e escolher a resposta correta entre as opções fornecidas.\\n\\nPergunta:\\nSOMA ENCONTRAR POLINÔMIO ANEL POLINÔMIO F X 4 X MENOS 5 G X 2 X 2 MENOS 4 X MAIS 2 Z8 X.\\n\\nOpções disponíveis:\\na. 2x^2 + 5\\nb. 6x^2 + 4x + 6\\nc. 0\\nd. x^2 + 1\\n\\nResponda apenas com a letra correspondente à resposta correta. Por favor, sem mais explicações.\\n*/\\n\\nPrimeiro, preciso entender a expressão que está sendo somada: F(x) - 4x - 5G(x) + 2G(x²) - 4 +    \n",
       "\n",
       "   first_word  \n",
       "15        Por  \n",
       "16        Por  \n",
       "17        Por  \n",
       "18        Por  \n",
       "19        Por  \n",
       "20        Por  "
      ]
     },
     "execution_count": 9,
     "metadata": {},
     "output_type": "execute_result"
    }
   ],
   "source": [
    "df_deep['first_word'] = df_deep['model_output_DeepSeek-R1'].progress_apply(extrair_primeira_palavra)\n",
    "df_deep.loc[15:20]"
   ]
  },
  {
   "cell_type": "markdown",
   "metadata": {},
   "source": [
    "# Join corretos entre llama e qween"
   ]
  },
  {
   "cell_type": "code",
   "execution_count": 129,
   "metadata": {},
   "outputs": [
    {
     "data": {
      "text/plain": [
       "((2914, 5), (2914, 5))"
      ]
     },
     "execution_count": 129,
     "metadata": {},
     "output_type": "execute_result"
    }
   ],
   "source": [
    "ids_llama = df_llama[df_llama['is_valid'] == True]['question_id'].unique()\n",
    "ids_qwen = df_qwen[df_qwen['is_valid'] == True]['question_id'].unique()\n",
    "\n",
    "df_valid_llama = df_llama[ df_llama['question_id'].isin(ids_qwen) & df_llama['question_id'].isin(ids_llama)].rename(columns={'valid':'resp_modelo'})\n",
    "df_valid_qwen = df_qwen[ df_qwen['question_id'].isin(ids_llama) & df_qwen['question_id'].isin(ids_qwen)].rename(columns={'valid':'resp_modelo'})\n",
    "\n",
    "df_valid_llama = df_valid_llama[['question_id', 'formatted_prompt', 'subject', 'answer', 'resp_modelo']]\n",
    "df_valid_qwen = df_valid_qwen[['question_id', 'formatted_prompt', 'subject', 'answer', 'resp_modelo']]\n",
    "\n",
    "df_valid_llama.shape, df_valid_qwen.shape"
   ]
  },
  {
   "cell_type": "markdown",
   "metadata": {},
   "source": [
    "É importante apresentar essa análise estatística da distribuição dos dados antes e depois de filtrar os considerados válidos."
   ]
  },
  {
   "cell_type": "code",
   "execution_count": 134,
   "metadata": {},
   "outputs": [
    {
     "data": {
      "text/plain": [
       "answer\n",
       "3    26.605444\n",
       "2    25.588002\n",
       "1    24.722516\n",
       "0    23.084038\n",
       "Name: proportion, dtype: float64"
      ]
     },
     "execution_count": 134,
     "metadata": {},
     "output_type": "execute_result"
    }
   ],
   "source": [
    "df_qwen['answer'].value_counts(normalize=True)*100"
   ]
  },
  {
   "cell_type": "code",
   "execution_count": 135,
   "metadata": {},
   "outputs": [
    {
     "data": {
      "text/plain": [
       "answer\n",
       "3    26.835964\n",
       "2    26.321208\n",
       "1    24.914207\n",
       "0    21.928620\n",
       "Name: proportion, dtype: float64"
      ]
     },
     "execution_count": 135,
     "metadata": {},
     "output_type": "execute_result"
    }
   ],
   "source": [
    "df_valid_llama['answer'].value_counts(normalize=True)*100"
   ]
  },
  {
   "cell_type": "code",
   "execution_count": 133,
   "metadata": {},
   "outputs": [
    {
     "data": {
      "text/plain": [
       "resp_modelo\n",
       "1    38.297872\n",
       "0    31.365820\n",
       "3    20.178449\n",
       "2    10.157859\n",
       "Name: proportion, dtype: float64"
      ]
     },
     "execution_count": 133,
     "metadata": {},
     "output_type": "execute_result"
    }
   ],
   "source": [
    "df_valid_llama['resp_modelo'].value_counts(normalize=True)*100"
   ]
  },
  {
   "cell_type": "markdown",
   "metadata": {},
   "source": [
    "# Acertos e erros"
   ]
  },
  {
   "cell_type": "markdown",
   "metadata": {},
   "source": [
    "## Llama"
   ]
  },
  {
   "cell_type": "code",
   "execution_count": 139,
   "metadata": {},
   "outputs": [
    {
     "data": {
      "text/plain": [
       "(valid_answers\n",
       " False    2010\n",
       " True      904\n",
       " Name: count, dtype: int64,\n",
       " valid_answers\n",
       " False    68.977351\n",
       " True     31.022649\n",
       " Name: proportion, dtype: float64)"
      ]
     },
     "execution_count": 139,
     "metadata": {},
     "output_type": "execute_result"
    }
   ],
   "source": [
    "df_valid_llama['valid_answers'] = df_valid_llama['answer'] == df_valid_llama['resp_modelo']\n",
    "df_valid_llama['valid_answers'].value_counts(), df_valid_llama['valid_answers'].value_counts(normalize=True) * 100"
   ]
  },
  {
   "cell_type": "markdown",
   "metadata": {},
   "source": [
    "## Qwen"
   ]
  },
  {
   "cell_type": "code",
   "execution_count": 138,
   "metadata": {},
   "outputs": [
    {
     "data": {
      "text/plain": [
       "(valid_answers\n",
       " False    1766\n",
       " True     1148\n",
       " Name: count, dtype: int64,\n",
       " valid_answers\n",
       " False    60.603981\n",
       " True     39.396019\n",
       " Name: proportion, dtype: float64)"
      ]
     },
     "execution_count": 138,
     "metadata": {},
     "output_type": "execute_result"
    }
   ],
   "source": [
    "df_valid_qwen['valid_answers'] = df_valid_qwen['answer'] == df_valid_qwen['resp_modelo']\n",
    "df_valid_qwen['valid_answers'].value_counts(), df_valid_qwen['valid_answers'].value_counts(normalize=True) * 100"
   ]
  },
  {
   "cell_type": "markdown",
   "metadata": {},
   "source": [
    "# Load Phi"
   ]
  },
  {
   "cell_type": "code",
   "execution_count": 63,
   "metadata": {},
   "outputs": [
    {
     "data": {
      "text/html": [
       "<div>\n",
       "<style scoped>\n",
       "    .dataframe tbody tr th:only-of-type {\n",
       "        vertical-align: middle;\n",
       "    }\n",
       "\n",
       "    .dataframe tbody tr th {\n",
       "        vertical-align: top;\n",
       "    }\n",
       "\n",
       "    .dataframe thead th {\n",
       "        text-align: right;\n",
       "    }\n",
       "</style>\n",
       "<table border=\"1\" class=\"dataframe\">\n",
       "  <thead>\n",
       "    <tr style=\"text-align: right;\">\n",
       "      <th></th>\n",
       "      <th>question_id</th>\n",
       "      <th>formatted_prompt</th>\n",
       "      <th>subject</th>\n",
       "      <th>answer</th>\n",
       "      <th>model_output</th>\n",
       "    </tr>\n",
       "  </thead>\n",
       "  <tbody>\n",
       "    <tr>\n",
       "      <th>0</th>\n",
       "      <td>0</td>\n",
       "      <td>Você é um assistente virtual altamente capacitado. Sua tarefa é ler uma pergunta e escolher a resposta correta entre as opções fornecidas.\\n\\nPergunta:\\nGRAU ENCONTRAR EXTENSÃO CAMPO Q RAIZ QUADRADA 2 RAIZ QUADRADA 3 RAIZ QUADRADA 18 SOBRE Q.\\n\\nOpções disponíveis:\\na. 0\\nb. 4\\nc. 2\\nd. 6\\n\\nResponda apenas com a letra correspondente à resposta correta.</td>\n",
       "      <td>abstract_algebra</td>\n",
       "      <td>1</td>\n",
       "      <td>Você é um assistente virtual altamente capacitado. Sua tarefa é ler uma pergunta e escolher a resposta correta entre as opções fornecidas.\\n\\nPergunta:\\nGRAU ENCONTRAR EXTENSÃO CAMPO Q RAIZ QUADRADA 2 RAIZ QUADRADA 3 RAIZ QUADRADA 18 SOBRE Q.\\n\\nOpções disponíveis:\\na. 0\\nb. 4\\nc. 2\\nd. 6\\ne. 8\\n\\nQual é a resposta correta?</td>\n",
       "    </tr>\n",
       "    <tr>\n",
       "      <th>1</th>\n",
       "      <td>1</td>\n",
       "      <td>Você é um assistente virtual altamente capacitado. Sua tarefa é ler uma pergunta e escolher a resposta correta entre as opções fornecidas.\\n\\nPergunta:\\nP 1 2 5 4 2 3 S5 ÍNDICE ENCONTRAR P S5.\\n\\nOpções disponíveis:\\na. 8\\nb. 2\\nc. 24\\nd. 120\\n\\nResponda apenas com a letra correspondente à resposta correta.</td>\n",
       "      <td>abstract_algebra</td>\n",
       "      <td>2</td>\n",
       "      <td>Você é um assistente virtual altamente capacitado. Sua tarefa é ler uma pergunta e escolher a resposta correta entre as opções fornecidas.\\n\\nPergunta:\\nP 1 2 5 4 2 3 S5 ÍNDICE ENCONTRAR P S5.\\n\\nOpções disponíveis:\\na. 8\\nb. 2\\nc. 24\\nd. 120\\ne. 6\\n\\nQual é a resposta correta?</td>\n",
       "    </tr>\n",
       "    <tr>\n",
       "      <th>2</th>\n",
       "      <td>2</td>\n",
       "      <td>Você é um assistente virtual altamente capacitado. Sua tarefa é ler uma pergunta e escolher a resposta correta entre as opções fornecidas.\\n\\nPergunta:\\nZERO TODOS ENCONTRAR CAMPO FINITO INDICADO POLINÔMIO COEFICIENTE X 5 MAIS 3 X 3 MAIS X 2 MAIS 2 X Z5.\\n\\nOpções disponíveis:\\na. 0\\nb. 1\\nc. 0,1\\nd. 0,4\\n\\nResponda apenas com a letra correspondente à resposta correta.</td>\n",
       "      <td>abstract_algebra</td>\n",
       "      <td>3</td>\n",
       "      <td>Você é um assistente virtual altamente capacitado. Sua tarefa é ler uma pergunta e escolher a resposta correta entre as opções fornecidas.\\n\\nPergunta:\\nZERO TODOS ENCONTRAR CAMPO FINITO INDICADO POLINÔMIO COEFICIENTE X 5 MAIS 3 X 3 MAIS X 2 MAIS 2 X Z5.\\n\\nOpções disponíveis:\\na. 0\\nb. 1\\nc. 0,1\\nd. 0,4\\ne. 0,2,4\\n\\nQual é a resposta correta? Escreva apenas a letra, sem explicação.</td>\n",
       "    </tr>\n",
       "    <tr>\n",
       "      <th>3</th>\n",
       "      <td>3</td>\n",
       "      <td>Você é um assistente virtual altamente capacitado. Sua tarefa é ler uma pergunta e escolher a resposta correta entre as opções fornecidas.\\n\\nPergunta:\\nAFIRMAÇÃO 1 GRUPO FATORES GRUPO NÃO-ABELIANO NÃO-ABELIANO. AFIRMAÇÃO 2 K SUBGRUPO NORMAL H H SUBGRUPO NORMAL G K SUBGRUPO NORMAL G.\\n\\nOpções disponíveis:\\na. Verdade, Verdade\\nb. Falso, Falso\\nc. Verdadeiro, Falso\\nd. Falso, Verdadeiro\\n\\nResponda apenas com a letra correspondente à resposta correta.</td>\n",
       "      <td>abstract_algebra</td>\n",
       "      <td>1</td>\n",
       "      <td>Você é um assistente virtual altamente capacitado. Sua tarefa é ler uma pergunta e escolher a resposta correta entre as opções fornecidas.\\n\\nPergunta:\\nAFIRMAÇÃO 1 GRUPO FATORES GRUPO NÃO-ABELIANO NÃO-ABELIANO. AFIRMAÇÃO 2 K SUBGRUPO NORMAL H H SUBGRUPO NORMAL G K SUBGRUPO NORMAL G.\\n\\nOpções disponíveis:\\na. Verdade, Verdade\\nb. Falso, Falso\\nc. Verdadeiro, Falso\\nd. Falso, Verdadeiro\\ne. Não posso determinar\\n\\nResposta:</td>\n",
       "    </tr>\n",
       "    <tr>\n",
       "      <th>4</th>\n",
       "      <td>4</td>\n",
       "      <td>Você é um assistente virtual altamente capacitado. Sua tarefa é ler uma pergunta e escolher a resposta correta entre as opções fornecidas.\\n\\nPergunta:\\nPRODUTO ENCONTRAR POLINÔMIO ANEL POLINÔMIO F X 4 X MENOS 5 G X 2 X 2 MENOS 4 X MAIS 2 Z8 X.\\n\\nOpções disponíveis:\\na. 2x^2 + 5\\nb. 6x^2 + 4x + 6\\nc. 0\\nd. x^2 + 1\\n\\nResponda apenas com a letra correspondente à resposta correta.</td>\n",
       "      <td>abstract_algebra</td>\n",
       "      <td>1</td>\n",
       "      <td>Você é um assistente virtual altamente capacitado. Sua tarefa é ler uma pergunta e escolher a resposta correta entre as opções fornecidas.\\n\\nPergunta:\\nPRODUTO ENCONTRAR POLINÔMIO ANEL POLINÔMIO F X 4 X MENOS 5 G X 2 X 2 MENOS 4 X MAIS 2 Z8 X.\\n\\nOpções disponíveis:\\na. 2x^2 + 5\\nb. 6x^2 + 4x + 6\\nc. 0\\nd. x^2 + 1\\ne. 2x^2 - 2x + 2\\n\\nQual é a resposta correta?</td>\n",
       "    </tr>\n",
       "  </tbody>\n",
       "</table>\n",
       "</div>"
      ],
      "text/plain": [
       "   question_id  \\\n",
       "0            0   \n",
       "1            1   \n",
       "2            2   \n",
       "3            3   \n",
       "4            4   \n",
       "\n",
       "                                                                                                                                                                                                                                                                                                                                                                                                                                                          formatted_prompt  \\\n",
       "0                                                                                                      Você é um assistente virtual altamente capacitado. Sua tarefa é ler uma pergunta e escolher a resposta correta entre as opções fornecidas.\\n\\nPergunta:\\nGRAU ENCONTRAR EXTENSÃO CAMPO Q RAIZ QUADRADA 2 RAIZ QUADRADA 3 RAIZ QUADRADA 18 SOBRE Q.\\n\\nOpções disponíveis:\\na. 0\\nb. 4\\nc. 2\\nd. 6\\n\\nResponda apenas com a letra correspondente à resposta correta.   \n",
       "1                                                                                                                                                     Você é um assistente virtual altamente capacitado. Sua tarefa é ler uma pergunta e escolher a resposta correta entre as opções fornecidas.\\n\\nPergunta:\\nP 1 2 5 4 2 3 S5 ÍNDICE ENCONTRAR P S5.\\n\\nOpções disponíveis:\\na. 8\\nb. 2\\nc. 24\\nd. 120\\n\\nResponda apenas com a letra correspondente à resposta correta.   \n",
       "2                                                                                      Você é um assistente virtual altamente capacitado. Sua tarefa é ler uma pergunta e escolher a resposta correta entre as opções fornecidas.\\n\\nPergunta:\\nZERO TODOS ENCONTRAR CAMPO FINITO INDICADO POLINÔMIO COEFICIENTE X 5 MAIS 3 X 3 MAIS X 2 MAIS 2 X Z5.\\n\\nOpções disponíveis:\\na. 0\\nb. 1\\nc. 0,1\\nd. 0,4\\n\\nResponda apenas com a letra correspondente à resposta correta.   \n",
       "3  Você é um assistente virtual altamente capacitado. Sua tarefa é ler uma pergunta e escolher a resposta correta entre as opções fornecidas.\\n\\nPergunta:\\nAFIRMAÇÃO 1 GRUPO FATORES GRUPO NÃO-ABELIANO NÃO-ABELIANO. AFIRMAÇÃO 2 K SUBGRUPO NORMAL H H SUBGRUPO NORMAL G K SUBGRUPO NORMAL G.\\n\\nOpções disponíveis:\\na. Verdade, Verdade\\nb. Falso, Falso\\nc. Verdadeiro, Falso\\nd. Falso, Verdadeiro\\n\\nResponda apenas com a letra correspondente à resposta correta.   \n",
       "4                                                                           Você é um assistente virtual altamente capacitado. Sua tarefa é ler uma pergunta e escolher a resposta correta entre as opções fornecidas.\\n\\nPergunta:\\nPRODUTO ENCONTRAR POLINÔMIO ANEL POLINÔMIO F X 4 X MENOS 5 G X 2 X 2 MENOS 4 X MAIS 2 Z8 X.\\n\\nOpções disponíveis:\\na. 2x^2 + 5\\nb. 6x^2 + 4x + 6\\nc. 0\\nd. x^2 + 1\\n\\nResponda apenas com a letra correspondente à resposta correta.   \n",
       "\n",
       "            subject  answer  \\\n",
       "0  abstract_algebra       1   \n",
       "1  abstract_algebra       2   \n",
       "2  abstract_algebra       3   \n",
       "3  abstract_algebra       1   \n",
       "4  abstract_algebra       1   \n",
       "\n",
       "                                                                                                                                                                                                                                                                                                                                                                                                                                  model_output  \n",
       "0                                                                                                        Você é um assistente virtual altamente capacitado. Sua tarefa é ler uma pergunta e escolher a resposta correta entre as opções fornecidas.\\n\\nPergunta:\\nGRAU ENCONTRAR EXTENSÃO CAMPO Q RAIZ QUADRADA 2 RAIZ QUADRADA 3 RAIZ QUADRADA 18 SOBRE Q.\\n\\nOpções disponíveis:\\na. 0\\nb. 4\\nc. 2\\nd. 6\\ne. 8\\n\\nQual é a resposta correta?  \n",
       "1                                                                                                                                                       Você é um assistente virtual altamente capacitado. Sua tarefa é ler uma pergunta e escolher a resposta correta entre as opções fornecidas.\\n\\nPergunta:\\nP 1 2 5 4 2 3 S5 ÍNDICE ENCONTRAR P S5.\\n\\nOpções disponíveis:\\na. 8\\nb. 2\\nc. 24\\nd. 120\\ne. 6\\n\\nQual é a resposta correta?  \n",
       "2                                            Você é um assistente virtual altamente capacitado. Sua tarefa é ler uma pergunta e escolher a resposta correta entre as opções fornecidas.\\n\\nPergunta:\\nZERO TODOS ENCONTRAR CAMPO FINITO INDICADO POLINÔMIO COEFICIENTE X 5 MAIS 3 X 3 MAIS X 2 MAIS 2 X Z5.\\n\\nOpções disponíveis:\\na. 0\\nb. 1\\nc. 0,1\\nd. 0,4\\ne. 0,2,4\\n\\nQual é a resposta correta? Escreva apenas a letra, sem explicação.  \n",
       "3  Você é um assistente virtual altamente capacitado. Sua tarefa é ler uma pergunta e escolher a resposta correta entre as opções fornecidas.\\n\\nPergunta:\\nAFIRMAÇÃO 1 GRUPO FATORES GRUPO NÃO-ABELIANO NÃO-ABELIANO. AFIRMAÇÃO 2 K SUBGRUPO NORMAL H H SUBGRUPO NORMAL G K SUBGRUPO NORMAL G.\\n\\nOpções disponíveis:\\na. Verdade, Verdade\\nb. Falso, Falso\\nc. Verdadeiro, Falso\\nd. Falso, Verdadeiro\\ne. Não posso determinar\\n\\nResposta:  \n",
       "4                                                                 Você é um assistente virtual altamente capacitado. Sua tarefa é ler uma pergunta e escolher a resposta correta entre as opções fornecidas.\\n\\nPergunta:\\nPRODUTO ENCONTRAR POLINÔMIO ANEL POLINÔMIO F X 4 X MENOS 5 G X 2 X 2 MENOS 4 X MAIS 2 Z8 X.\\n\\nOpções disponíveis:\\na. 2x^2 + 5\\nb. 6x^2 + 4x + 6\\nc. 0\\nd. x^2 + 1\\ne. 2x^2 - 2x + 2\\n\\nQual é a resposta correta?  "
      ]
     },
     "execution_count": 63,
     "metadata": {},
     "output_type": "execute_result"
    }
   ],
   "source": [
    "df = pd.read_csv(\"/home/annap/Documents/chatbot-project/EVAL/DATASETS/MMLU/mmlu_eval_phi_4.csv\")\n",
    "df.head()"
   ]
  },
  {
   "cell_type": "markdown",
   "metadata": {},
   "source": [
    "# Load GLOSA"
   ]
  },
  {
   "cell_type": "code",
   "execution_count": 3,
   "metadata": {},
   "outputs": [],
   "source": [
    "df_qwen = pd.read_csv(\"/home/annap/Documents/chatbot-project/EVAL/DATASETS/MMLU/mmlu_eval_Qwen_2_5_7B_glosa.csv\")"
   ]
  },
  {
   "cell_type": "code",
   "execution_count": null,
   "metadata": {},
   "outputs": [],
   "source": [
    "#RESPOSTA: c."
   ]
  },
  {
   "cell_type": "code",
   "execution_count": null,
   "metadata": {},
   "outputs": [
    {
     "data": {
      "text/html": [
       "<div>\n",
       "<style scoped>\n",
       "    .dataframe tbody tr th:only-of-type {\n",
       "        vertical-align: middle;\n",
       "    }\n",
       "\n",
       "    .dataframe tbody tr th {\n",
       "        vertical-align: top;\n",
       "    }\n",
       "\n",
       "    .dataframe thead th {\n",
       "        text-align: right;\n",
       "    }\n",
       "</style>\n",
       "<table border=\"1\" class=\"dataframe\">\n",
       "  <thead>\n",
       "    <tr style=\"text-align: right;\">\n",
       "      <th></th>\n",
       "      <th>model_output</th>\n",
       "    </tr>\n",
       "  </thead>\n",
       "  <tbody>\n",
       "    <tr>\n",
       "      <th>70</th>\n",
       "      <td>Você é um assistente virtual altamente capacitado. Sua tarefa é ler uma pergunta e escolher a resposta correta entre as opções fornecidas.\\n\\nPergunta:\\nTEOREMA FERMAT 3^47 23 DIVIDIR RESTO ENCONTRAR.\\n\\nOpções disponíveis:\\na. 1\\nb. 2\\nc. 3\\nd. 4\\n0</td>\n",
       "    </tr>\n",
       "    <tr>\n",
       "      <th>71</th>\n",
       "      <td>Você é um assistente virtual altamente capacitado. Sua tarefa é ler uma pergunta e escolher a resposta correta entre as opções fornecidas.\\n\\nPergunta:\\nENCONTRAR CARACTERÍSTICA ANEL Z_3 X Z_3.\\n\\nOpções disponíveis:\\na. 0\\nb. 3\\nc. 12\\nd. 30\\n0</td>\n",
       "    </tr>\n",
       "    <tr>\n",
       "      <th>72</th>\n",
       "      <td>Você é um assistente virtual altamente capacitado. Sua tarefa é ler uma pergunta e escolher a resposta correta entre as opções fornecidas.\\n\\nPergunta:\\nAFIRMAÇÃO 1 A B ELEMENTO GRUPO A B DIFERENTE ENTÃO A^2 B^2 DIFERENTE. AFIRMAÇÃO 2 CONJUNTO ROTAÇÃO GRUPO DIEDRO SUBGRUPO CÍCLICO.\\n\\nOpções disponíveis:\\na. Verdade, Verdade\\nb. Falso, Falso\\nc. Verdadeiro, Falso\\nd. Falso, Verdadeiro\\n0</td>\n",
       "    </tr>\n",
       "    <tr>\n",
       "      <th>73</th>\n",
       "      <td>Você é um assistente virtual altamente capacitado. Sua tarefa é ler uma pergunta e escolher a resposta correta entre as opções fornecidas.\\n\\nPergunta:\\nAFIRMAÇÃO 1 GRUPO AB^-2 B^-2A^-2. AFIRMAÇÃO 2 GRUPO AB^N A^NB^N.\\n\\nOpções disponíveis:\\na. Verdade, Verdade\\nb. Falso, Falso\\nc. Verdadeiro, Falso\\nd. Falso, Verdadeiro\\n0</td>\n",
       "    </tr>\n",
       "    <tr>\n",
       "      <th>74</th>\n",
       "      <td>Você é um assistente virtual altamente capacitado. Sua tarefa é ler uma pergunta e escolher a resposta correta entre as opções fornecidas.\\n\\nPergunta:\\nAFIRMAÇÃO 1 S_N ABELIANO NÃO N &gt;= 3. AFIRMAÇÃO 2 A PERMUTAÇÃO CICLO M B PERMUTAÇÃO CICLO N ENTÃO AB LCM M N.\\n\\nOpções disponíveis:\\na. Verdade, Verdade\\nb. Falso, Falso\\nc. Verdadeiro, Falso\\nd. Falso, Verdadeiro\\n0</td>\n",
       "    </tr>\n",
       "    <tr>\n",
       "      <th>75</th>\n",
       "      <td>Você é um assistente virtual altamente capacitado. Sua tarefa é ler uma pergunta e escolher a resposta correta entre as opções fornecidas.\\n\\nPergunta:\\nENCONTRAR CARACTERÍSTICA ANEL Z X Z.\\n\\nOpções disponíveis:\\na. 0\\nb. 3\\nc. 12\\nd. 30\\n0</td>\n",
       "    </tr>\n",
       "    <tr>\n",
       "      <th>76</th>\n",
       "      <td>Você é um assistente virtual altamente capacitado. Sua tarefa é ler uma pergunta e escolher a resposta correta entre as opções fornecidas.\\n\\nPergunta:\\nAFIRMAÇÃO 1 N &gt; 1 CONJUNTO 1, 2, ..., N-1 GRUPO MULTIPLICAÇÃO MÓDULO N. AFIRMAÇÃO 2 INTEIRO X 63X MÓDULO 100 1.\\n\\nOpções disponíveis:\\na. Verdade, Verdade\\nb. Falso, Falso\\nc. Verdadeiro, Falso\\nd. Falso, Verdadeiro\\n0</td>\n",
       "    </tr>\n",
       "    <tr>\n",
       "      <th>77</th>\n",
       "      <td>Você é um assistente virtual altamente capacitado. Sua tarefa é ler uma pergunta e escolher a resposta correta entre as opções fornecidas.\\n\\nPergunta:\\nAFIRMAÇÃO 1 K SUBGRUPO ZERO DIFERENTE GRUPO ABELIANO LIVRE GERADO FINITO K ABELIANO LIVRE. AFIRMAÇÃO 2 K SUBGRUPO ZERO DIFERENTE GRUPO ABELIANO LIVRE GERADO FINITO G/K ABELIANO LIVRE.\\n\\nOpções disponíveis:\\na. Verdade, Verdade\\nb. Falso, Falso\\nc. Verdadeiro, Falso\\nd. Falso, Verdadeiro\\n0</td>\n",
       "    </tr>\n",
       "    <tr>\n",
       "      <th>78</th>\n",
       "      <td>Você é um assistente virtual altamente capacitado. Sua tarefa é ler uma pergunta e escolher a resposta correta entre as opções fornecidas.\\n\\nPergunta:\\nDECLARAÇÃO 1 PRODUTO DIRETO EXTERNO GRUPO CÍCLICO CÍCLICO. DECLARAÇÃO 2 PRODUTO DIRETO EXTERNO D_3 D_4 ISOMÓRFICO D_12.\\n\\nOpções disponíveis:\\na. Verdade, Verdade\\nb. Falso, Falso\\nc. Verdadeiro, Falso\\nd. Falso, Verdadeiro\\n0</td>\n",
       "    </tr>\n",
       "    <tr>\n",
       "      <th>79</th>\n",
       "      <td>Você é um assistente virtual altamente capacitado. Sua tarefa é ler uma pergunta e escolher a resposta correta entre as opções fornecidas.\\n\\nPergunta:\\nAFIRMAÇÃO 1 GRUPO ABELIANO LIVRE ZERO DIFERENTE BASE INFINITO. AFIRMAÇÃO 2 GRUPO ABELIANO LIVRE POSTO 2 BASE INFINITO.\\n\\nOpções disponíveis:\\na. Verdade, Verdade\\nb. Falso, Falso\\nc. Verdadeiro, Falso\\nd. Falso, Verdadeiro\\n0</td>\n",
       "    </tr>\n",
       "    <tr>\n",
       "      <th>80</th>\n",
       "      <td>Você é um assistente virtual altamente capacitado. Sua tarefa é ler uma pergunta e escolher a resposta correta entre as opções fornecidas.\\n\\nPergunta:\\nAFIRMAÇÃO 1 INTEIRO POSITIVO N GRUPO CÍCLICO ORDEM N EXISTIR. AFIRMAÇÃO 2 GRUPO CÍCLICO FINITO ELEMENTO ORDEM DIVIDIR ORDEM GRUPO.\\n\\nOpções disponíveis:\\na. Verdade, Verdade\\nb. Falso, Falso\\nc. Verdadeiro, Falso\\nd. Falso, Verdadeiro\\n0</td>\n",
       "    </tr>\n",
       "  </tbody>\n",
       "</table>\n",
       "</div>"
      ],
      "text/plain": [
       "                                                                                                                                                                                                                                                                                                                                                                                                                                                    model_output\n",
       "70                                                                                                                                                                                                    Você é um assistente virtual altamente capacitado. Sua tarefa é ler uma pergunta e escolher a resposta correta entre as opções fornecidas.\\n\\nPergunta:\\nTEOREMA FERMAT 3^47 23 DIVIDIR RESTO ENCONTRAR.\\n\\nOpções disponíveis:\\na. 1\\nb. 2\\nc. 3\\nd. 4\\n0\n",
       "71                                                                                                                                                                                                         Você é um assistente virtual altamente capacitado. Sua tarefa é ler uma pergunta e escolher a resposta correta entre as opções fornecidas.\\n\\nPergunta:\\nENCONTRAR CARACTERÍSTICA ANEL Z_3 X Z_3.\\n\\nOpções disponíveis:\\na. 0\\nb. 3\\nc. 12\\nd. 30\\n0\n",
       "72                                                        Você é um assistente virtual altamente capacitado. Sua tarefa é ler uma pergunta e escolher a resposta correta entre as opções fornecidas.\\n\\nPergunta:\\nAFIRMAÇÃO 1 A B ELEMENTO GRUPO A B DIFERENTE ENTÃO A^2 B^2 DIFERENTE. AFIRMAÇÃO 2 CONJUNTO ROTAÇÃO GRUPO DIEDRO SUBGRUPO CÍCLICO.\\n\\nOpções disponíveis:\\na. Verdade, Verdade\\nb. Falso, Falso\\nc. Verdadeiro, Falso\\nd. Falso, Verdadeiro\\n0\n",
       "73                                                                                                                         Você é um assistente virtual altamente capacitado. Sua tarefa é ler uma pergunta e escolher a resposta correta entre as opções fornecidas.\\n\\nPergunta:\\nAFIRMAÇÃO 1 GRUPO AB^-2 B^-2A^-2. AFIRMAÇÃO 2 GRUPO AB^N A^NB^N.\\n\\nOpções disponíveis:\\na. Verdade, Verdade\\nb. Falso, Falso\\nc. Verdadeiro, Falso\\nd. Falso, Verdadeiro\\n0\n",
       "74                                                                             Você é um assistente virtual altamente capacitado. Sua tarefa é ler uma pergunta e escolher a resposta correta entre as opções fornecidas.\\n\\nPergunta:\\nAFIRMAÇÃO 1 S_N ABELIANO NÃO N >= 3. AFIRMAÇÃO 2 A PERMUTAÇÃO CICLO M B PERMUTAÇÃO CICLO N ENTÃO AB LCM M N.\\n\\nOpções disponíveis:\\na. Verdade, Verdade\\nb. Falso, Falso\\nc. Verdadeiro, Falso\\nd. Falso, Verdadeiro\\n0\n",
       "75                                                                                                                                                                                                             Você é um assistente virtual altamente capacitado. Sua tarefa é ler uma pergunta e escolher a resposta correta entre as opções fornecidas.\\n\\nPergunta:\\nENCONTRAR CARACTERÍSTICA ANEL Z X Z.\\n\\nOpções disponíveis:\\na. 0\\nb. 3\\nc. 12\\nd. 30\\n0\n",
       "76                                                                          Você é um assistente virtual altamente capacitado. Sua tarefa é ler uma pergunta e escolher a resposta correta entre as opções fornecidas.\\n\\nPergunta:\\nAFIRMAÇÃO 1 N > 1 CONJUNTO 1, 2, ..., N-1 GRUPO MULTIPLICAÇÃO MÓDULO N. AFIRMAÇÃO 2 INTEIRO X 63X MÓDULO 100 1.\\n\\nOpções disponíveis:\\na. Verdade, Verdade\\nb. Falso, Falso\\nc. Verdadeiro, Falso\\nd. Falso, Verdadeiro\\n0\n",
       "77  Você é um assistente virtual altamente capacitado. Sua tarefa é ler uma pergunta e escolher a resposta correta entre as opções fornecidas.\\n\\nPergunta:\\nAFIRMAÇÃO 1 K SUBGRUPO ZERO DIFERENTE GRUPO ABELIANO LIVRE GERADO FINITO K ABELIANO LIVRE. AFIRMAÇÃO 2 K SUBGRUPO ZERO DIFERENTE GRUPO ABELIANO LIVRE GERADO FINITO G/K ABELIANO LIVRE.\\n\\nOpções disponíveis:\\na. Verdade, Verdade\\nb. Falso, Falso\\nc. Verdadeiro, Falso\\nd. Falso, Verdadeiro\\n0\n",
       "78                                                                  Você é um assistente virtual altamente capacitado. Sua tarefa é ler uma pergunta e escolher a resposta correta entre as opções fornecidas.\\n\\nPergunta:\\nDECLARAÇÃO 1 PRODUTO DIRETO EXTERNO GRUPO CÍCLICO CÍCLICO. DECLARAÇÃO 2 PRODUTO DIRETO EXTERNO D_3 D_4 ISOMÓRFICO D_12.\\n\\nOpções disponíveis:\\na. Verdade, Verdade\\nb. Falso, Falso\\nc. Verdadeiro, Falso\\nd. Falso, Verdadeiro\\n0\n",
       "79                                                                   Você é um assistente virtual altamente capacitado. Sua tarefa é ler uma pergunta e escolher a resposta correta entre as opções fornecidas.\\n\\nPergunta:\\nAFIRMAÇÃO 1 GRUPO ABELIANO LIVRE ZERO DIFERENTE BASE INFINITO. AFIRMAÇÃO 2 GRUPO ABELIANO LIVRE POSTO 2 BASE INFINITO.\\n\\nOpções disponíveis:\\na. Verdade, Verdade\\nb. Falso, Falso\\nc. Verdadeiro, Falso\\nd. Falso, Verdadeiro\\n0\n",
       "80                                                       Você é um assistente virtual altamente capacitado. Sua tarefa é ler uma pergunta e escolher a resposta correta entre as opções fornecidas.\\n\\nPergunta:\\nAFIRMAÇÃO 1 INTEIRO POSITIVO N GRUPO CÍCLICO ORDEM N EXISTIR. AFIRMAÇÃO 2 GRUPO CÍCLICO FINITO ELEMENTO ORDEM DIVIDIR ORDEM GRUPO.\\n\\nOpções disponíveis:\\na. Verdade, Verdade\\nb. Falso, Falso\\nc. Verdadeiro, Falso\\nd. Falso, Verdadeiro\\n0"
      ]
     },
     "execution_count": 10,
     "metadata": {},
     "output_type": "execute_result"
    }
   ],
   "source": []
  },
  {
   "cell_type": "code",
   "execution_count": null,
   "metadata": {},
   "outputs": [],
   "source": []
  }
 ],
 "metadata": {
  "kernelspec": {
   "display_name": "Python 3",
   "language": "python",
   "name": "python3"
  },
  "language_info": {
   "codemirror_mode": {
    "name": "ipython",
    "version": 3
   },
   "file_extension": ".py",
   "mimetype": "text/x-python",
   "name": "python",
   "nbconvert_exporter": "python",
   "pygments_lexer": "ipython3",
   "version": "3.10.12"
  }
 },
 "nbformat": 4,
 "nbformat_minor": 2
}
